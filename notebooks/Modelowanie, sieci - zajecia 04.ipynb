{
 "cells": [
  {
   "cell_type": "markdown",
   "metadata": {},
   "source": [
    "# Modelowanie - warsztaty, zajęcia 04"
   ]
  },
  {
   "cell_type": "code",
   "execution_count": 1,
   "metadata": {},
   "outputs": [
    {
     "name": "stdout",
     "output_type": "stream",
     "text": [
      "wersja seaborn'a:\n",
      " 0.8.1\n"
     ]
    }
   ],
   "source": [
    "import numpy as np\n",
    "import pandas as pd\n",
    "import matplotlib.pyplot as plt\n",
    "\n",
    "import seaborn as sns\n",
    "print(\"wersja seaborn'a:\\n\", sns.__version__)"
   ]
  },
  {
   "cell_type": "code",
   "execution_count": 2,
   "metadata": {
    "collapsed": true
   },
   "outputs": [],
   "source": [
    "%matplotlib inline"
   ]
  },
  {
   "cell_type": "code",
   "execution_count": 3,
   "metadata": {
    "collapsed": true
   },
   "outputs": [],
   "source": [
    "titanic = sns.load_dataset('titanic')"
   ]
  },
  {
   "cell_type": "markdown",
   "metadata": {},
   "source": [
    "## Uczenie maszynowe\n",
    "W uczeniu maszynowym interesuje nas bardziej przewidywanie niż zrozumienie zależności w danych.\n",
    "Wyobraźmy sobie że zastanawiamy się nad podróżą Tytanikiem II - zanim zdecydujemy się na podróż chcielibyśmy wiedzieć, czy mamy szanse ją przeżyć. Ważniejsze jest dla nas aby trafnie przewidzieć nasze szanse przeżycia, nawet kosztem zrozumienia dlaczego model, z którego korzystamy zwraca określone przewidywanie. Dlatego w uczeniu maszynowym często korzysta się z dużo bardziej złożonych modeli niż w klasycznej statystyce i nie opisuje efektów pod kątem ich istotności, ale poprawności naszych predykcji.  \n",
    "Najczęściej w uczeniu maszynowym symulujemy predykcję poprzez podzielenie danych na dwa zbiory - treningowy oraz testowy.\n",
    "**Zbiór treningowy** to dane, z których korzystamy aby dopasować nasz model. **Ziór testowy** to dane, dla których sprawdzamy jak trafne są nasze predykcje. Podziału na zbiór testowy i treningowy dokonujemy losowo, przy czym zwykle chcemy aby zbiór treningowy był większy - aby mieć wystarczająco danych by dobrze dopasować model. Wielkość zbioru testowego ogranicza tylko rozdzielczość z jaką będziemy mierzyć poprawność predykcji (np. 10 przypadków w zbiorze testowym oznacza, że rozdzielczość z jaką będziemy szcować poprawność to 1/10 tzn. 10%).  \n",
    "Najpopularniejszym pakietem do uczenia maszynowego (z pominięciem złożonych sieci neuronowych) jest `scikit-learn`, w skrócie `sklearn`. Pakiet ten ma bardzo bogatą [dokumnetację](http://scikit-learn.org/stable/index.html).\n",
    "Najpierw wczytamy tylko funkcję do dzielenia danych na dane testowe i treningowe oraz model z którego będziemy korzystać - regresję logistyczną:"
   ]
  },
  {
   "cell_type": "code",
   "execution_count": 4,
   "metadata": {
    "collapsed": true
   },
   "outputs": [],
   "source": [
    "from sklearn.model_selection import train_test_split\n",
    "from sklearn.linear_model import LogisticRegression"
   ]
  },
  {
   "cell_type": "markdown",
   "metadata": {},
   "source": [
    "### Przekształcanie danych\n",
    "Podstawowa różnica między `statsmodels` a `sklearn` jest taka, że `sklearn` korzysta z macierzy, a nie dataframe'ów, dlatego w ostatnim kroku preprocessingu zamienimy nasz dataframe na macierz. Wcześniej będziemy musieli zamienić kolumny zawierające dane kategorialne (takie jak np. `who`) na zmienne dychotomiczne. Kolumna `who` ma np. trzy kategorie - zamienimy ją w związku z tym w dwie kolumny zero-jedynkowe (dychotomiczne) (nie potrzebujemy aż trzech kolumn w tym wypadku - trzecia niosła by redundantne informacje względem dwóch poprzednich). Do zamiany kolumn kategorialnych na dychotomiczne użyjemy funkcji `pd.get_dummies`.  \n",
    "  \n",
    "Przypomnijmy sobie najpierw jak wyglądają nasze dane:"
   ]
  },
  {
   "cell_type": "code",
   "execution_count": 50,
   "metadata": {},
   "outputs": [
    {
     "data": {
      "text/html": [
       "<div>\n",
       "<style scoped>\n",
       "    .dataframe tbody tr th:only-of-type {\n",
       "        vertical-align: middle;\n",
       "    }\n",
       "\n",
       "    .dataframe tbody tr th {\n",
       "        vertical-align: top;\n",
       "    }\n",
       "\n",
       "    .dataframe thead th {\n",
       "        text-align: right;\n",
       "    }\n",
       "</style>\n",
       "<table border=\"1\" class=\"dataframe\">\n",
       "  <thead>\n",
       "    <tr style=\"text-align: right;\">\n",
       "      <th></th>\n",
       "      <th>survived</th>\n",
       "      <th>pclass</th>\n",
       "      <th>sex</th>\n",
       "      <th>age</th>\n",
       "      <th>sibsp</th>\n",
       "      <th>parch</th>\n",
       "      <th>fare</th>\n",
       "      <th>embarked</th>\n",
       "      <th>class</th>\n",
       "      <th>who</th>\n",
       "      <th>adult_male</th>\n",
       "      <th>deck</th>\n",
       "      <th>embark_town</th>\n",
       "      <th>alive</th>\n",
       "      <th>alone</th>\n",
       "    </tr>\n",
       "  </thead>\n",
       "  <tbody>\n",
       "    <tr>\n",
       "      <th>0</th>\n",
       "      <td>0</td>\n",
       "      <td>3</td>\n",
       "      <td>male</td>\n",
       "      <td>22.0</td>\n",
       "      <td>1</td>\n",
       "      <td>0</td>\n",
       "      <td>7.2500</td>\n",
       "      <td>S</td>\n",
       "      <td>Third</td>\n",
       "      <td>man</td>\n",
       "      <td>True</td>\n",
       "      <td>NaN</td>\n",
       "      <td>Southampton</td>\n",
       "      <td>no</td>\n",
       "      <td>False</td>\n",
       "    </tr>\n",
       "    <tr>\n",
       "      <th>1</th>\n",
       "      <td>1</td>\n",
       "      <td>1</td>\n",
       "      <td>female</td>\n",
       "      <td>38.0</td>\n",
       "      <td>1</td>\n",
       "      <td>0</td>\n",
       "      <td>71.2833</td>\n",
       "      <td>C</td>\n",
       "      <td>First</td>\n",
       "      <td>woman</td>\n",
       "      <td>False</td>\n",
       "      <td>C</td>\n",
       "      <td>Cherbourg</td>\n",
       "      <td>yes</td>\n",
       "      <td>False</td>\n",
       "    </tr>\n",
       "    <tr>\n",
       "      <th>2</th>\n",
       "      <td>1</td>\n",
       "      <td>3</td>\n",
       "      <td>female</td>\n",
       "      <td>26.0</td>\n",
       "      <td>0</td>\n",
       "      <td>0</td>\n",
       "      <td>7.9250</td>\n",
       "      <td>S</td>\n",
       "      <td>Third</td>\n",
       "      <td>woman</td>\n",
       "      <td>False</td>\n",
       "      <td>NaN</td>\n",
       "      <td>Southampton</td>\n",
       "      <td>yes</td>\n",
       "      <td>True</td>\n",
       "    </tr>\n",
       "    <tr>\n",
       "      <th>3</th>\n",
       "      <td>1</td>\n",
       "      <td>1</td>\n",
       "      <td>female</td>\n",
       "      <td>35.0</td>\n",
       "      <td>1</td>\n",
       "      <td>0</td>\n",
       "      <td>53.1000</td>\n",
       "      <td>S</td>\n",
       "      <td>First</td>\n",
       "      <td>woman</td>\n",
       "      <td>False</td>\n",
       "      <td>C</td>\n",
       "      <td>Southampton</td>\n",
       "      <td>yes</td>\n",
       "      <td>False</td>\n",
       "    </tr>\n",
       "    <tr>\n",
       "      <th>4</th>\n",
       "      <td>0</td>\n",
       "      <td>3</td>\n",
       "      <td>male</td>\n",
       "      <td>35.0</td>\n",
       "      <td>0</td>\n",
       "      <td>0</td>\n",
       "      <td>8.0500</td>\n",
       "      <td>S</td>\n",
       "      <td>Third</td>\n",
       "      <td>man</td>\n",
       "      <td>True</td>\n",
       "      <td>NaN</td>\n",
       "      <td>Southampton</td>\n",
       "      <td>no</td>\n",
       "      <td>True</td>\n",
       "    </tr>\n",
       "  </tbody>\n",
       "</table>\n",
       "</div>"
      ],
      "text/plain": [
       "   survived  pclass     sex   age  sibsp  parch     fare embarked  class  \\\n",
       "0         0       3    male  22.0      1      0   7.2500        S  Third   \n",
       "1         1       1  female  38.0      1      0  71.2833        C  First   \n",
       "2         1       3  female  26.0      0      0   7.9250        S  Third   \n",
       "3         1       1  female  35.0      1      0  53.1000        S  First   \n",
       "4         0       3    male  35.0      0      0   8.0500        S  Third   \n",
       "\n",
       "     who  adult_male deck  embark_town alive  alone  \n",
       "0    man        True  NaN  Southampton    no  False  \n",
       "1  woman       False    C    Cherbourg   yes  False  \n",
       "2  woman       False  NaN  Southampton   yes   True  \n",
       "3  woman       False    C  Southampton   yes  False  \n",
       "4    man        True  NaN  Southampton    no   True  "
      ]
     },
     "execution_count": 50,
     "metadata": {},
     "output_type": "execute_result"
    }
   ],
   "source": [
    "titanic.head()"
   ]
  },
  {
   "cell_type": "markdown",
   "metadata": {},
   "source": [
    "Najpierw weźmy kolumny ilościowe: pclass (klasa biletu), age (wiek), sibsp (liczba rodzeństwa bądź małżonków na pokładzie) parch (liczba rodziców / dzieci na pokładzie), fare (opłata):"
   ]
  },
  {
   "cell_type": "code",
   "execution_count": 28,
   "metadata": {},
   "outputs": [
    {
     "data": {
      "text/html": [
       "<div>\n",
       "<style scoped>\n",
       "    .dataframe tbody tr th:only-of-type {\n",
       "        vertical-align: middle;\n",
       "    }\n",
       "\n",
       "    .dataframe tbody tr th {\n",
       "        vertical-align: top;\n",
       "    }\n",
       "\n",
       "    .dataframe thead th {\n",
       "        text-align: right;\n",
       "    }\n",
       "</style>\n",
       "<table border=\"1\" class=\"dataframe\">\n",
       "  <thead>\n",
       "    <tr style=\"text-align: right;\">\n",
       "      <th></th>\n",
       "      <th>pclass</th>\n",
       "      <th>age</th>\n",
       "      <th>sibsp</th>\n",
       "      <th>parch</th>\n",
       "      <th>fare</th>\n",
       "    </tr>\n",
       "  </thead>\n",
       "  <tbody>\n",
       "    <tr>\n",
       "      <th>0</th>\n",
       "      <td>3</td>\n",
       "      <td>22.0</td>\n",
       "      <td>1</td>\n",
       "      <td>0</td>\n",
       "      <td>7.2500</td>\n",
       "    </tr>\n",
       "    <tr>\n",
       "      <th>1</th>\n",
       "      <td>1</td>\n",
       "      <td>38.0</td>\n",
       "      <td>1</td>\n",
       "      <td>0</td>\n",
       "      <td>71.2833</td>\n",
       "    </tr>\n",
       "    <tr>\n",
       "      <th>2</th>\n",
       "      <td>3</td>\n",
       "      <td>26.0</td>\n",
       "      <td>0</td>\n",
       "      <td>0</td>\n",
       "      <td>7.9250</td>\n",
       "    </tr>\n",
       "    <tr>\n",
       "      <th>3</th>\n",
       "      <td>1</td>\n",
       "      <td>35.0</td>\n",
       "      <td>1</td>\n",
       "      <td>0</td>\n",
       "      <td>53.1000</td>\n",
       "    </tr>\n",
       "    <tr>\n",
       "      <th>4</th>\n",
       "      <td>3</td>\n",
       "      <td>35.0</td>\n",
       "      <td>0</td>\n",
       "      <td>0</td>\n",
       "      <td>8.0500</td>\n",
       "    </tr>\n",
       "    <tr>\n",
       "      <th>5</th>\n",
       "      <td>3</td>\n",
       "      <td>NaN</td>\n",
       "      <td>0</td>\n",
       "      <td>0</td>\n",
       "      <td>8.4583</td>\n",
       "    </tr>\n",
       "  </tbody>\n",
       "</table>\n",
       "</div>"
      ],
      "text/plain": [
       "   pclass   age  sibsp  parch     fare\n",
       "0       3  22.0      1      0   7.2500\n",
       "1       1  38.0      1      0  71.2833\n",
       "2       3  26.0      0      0   7.9250\n",
       "3       1  35.0      1      0  53.1000\n",
       "4       3  35.0      0      0   8.0500\n",
       "5       3   NaN      0      0   8.4583"
      ]
     },
     "execution_count": 28,
     "metadata": {},
     "output_type": "execute_result"
    }
   ],
   "source": [
    "columns = ['pclass', 'age', 'sibsp', 'parch', 'fare']\n",
    "titanic_selected = titanic.loc[:, columns]\n",
    "titanic_selected.head(6)"
   ]
  },
  {
   "cell_type": "markdown",
   "metadata": {},
   "source": [
    "możecie przy okazji zwrócić uwagę powyżej na wartość w drugiej kolumnie, ostatnim wierszu: `NaN` (od *Not a Number*) - to brak danych. Z brakami poradzimy sobie później.  \n",
    "W następnej kolejności zobaczmy jak możemy zająć kolumnami ze zmiennymi kategorycznymi. Zajmijmy się najpierw płcią: kolumna `sex`. Korzystamy z `pd.get_dummies` podając kolumnę sex oraz używamy `drop_first=True` aby dostać o jedną kolumnę mniej niż liczba kategorii (aby uniknąć nadmiarowych informacjii):"
   ]
  },
  {
   "cell_type": "code",
   "execution_count": 29,
   "metadata": {},
   "outputs": [
    {
     "data": {
      "text/html": [
       "<div>\n",
       "<style scoped>\n",
       "    .dataframe tbody tr th:only-of-type {\n",
       "        vertical-align: middle;\n",
       "    }\n",
       "\n",
       "    .dataframe tbody tr th {\n",
       "        vertical-align: top;\n",
       "    }\n",
       "\n",
       "    .dataframe thead th {\n",
       "        text-align: right;\n",
       "    }\n",
       "</style>\n",
       "<table border=\"1\" class=\"dataframe\">\n",
       "  <thead>\n",
       "    <tr style=\"text-align: right;\">\n",
       "      <th></th>\n",
       "      <th>male</th>\n",
       "    </tr>\n",
       "  </thead>\n",
       "  <tbody>\n",
       "    <tr>\n",
       "      <th>0</th>\n",
       "      <td>1</td>\n",
       "    </tr>\n",
       "    <tr>\n",
       "      <th>1</th>\n",
       "      <td>0</td>\n",
       "    </tr>\n",
       "    <tr>\n",
       "      <th>2</th>\n",
       "      <td>0</td>\n",
       "    </tr>\n",
       "    <tr>\n",
       "      <th>3</th>\n",
       "      <td>0</td>\n",
       "    </tr>\n",
       "    <tr>\n",
       "      <th>4</th>\n",
       "      <td>1</td>\n",
       "    </tr>\n",
       "    <tr>\n",
       "      <th>5</th>\n",
       "      <td>1</td>\n",
       "    </tr>\n",
       "  </tbody>\n",
       "</table>\n",
       "</div>"
      ],
      "text/plain": [
       "   male\n",
       "0     1\n",
       "1     0\n",
       "2     0\n",
       "3     0\n",
       "4     1\n",
       "5     1"
      ]
     },
     "execution_count": 29,
     "metadata": {},
     "output_type": "execute_result"
    }
   ],
   "source": [
    "sx = pd.get_dummies(titanic.sex, drop_first=True)\n",
    "sx[:6]"
   ]
  },
  {
   "cell_type": "markdown",
   "metadata": {},
   "source": [
    "Możemy skorzystać z `pd.get_dummies()` aby za jednym zamachem wyciągnąć z dataframe'u kilka zmiennych kategorycznych i przekodować je na zmienne przyjazne dla regresji (możesz się na ten temat dowiedzieć nieco więcej szukając w google po haśle 'dummy coding', możesz też zadać mi pytanie na zajęciach).  \n",
    "### Ćwiczenie\n",
    "Chcemy wybrać kolumny `sex`, `alone` oraz `who` za pomocą `pd.get_dummies`, uzupełnij odpowiednio argument `columns=` (wrazie problemów sprawdź w sieci dokumentację `pd.get_dummies` dla argumentu `columns`):"
   ]
  },
  {
   "cell_type": "code",
   "execution_count": 95,
   "metadata": {},
   "outputs": [
    {
     "data": {
      "text/html": [
       "<div>\n",
       "<style scoped>\n",
       "    .dataframe tbody tr th:only-of-type {\n",
       "        vertical-align: middle;\n",
       "    }\n",
       "\n",
       "    .dataframe tbody tr th {\n",
       "        vertical-align: top;\n",
       "    }\n",
       "\n",
       "    .dataframe thead th {\n",
       "        text-align: right;\n",
       "    }\n",
       "</style>\n",
       "<table border=\"1\" class=\"dataframe\">\n",
       "  <thead>\n",
       "    <tr style=\"text-align: right;\">\n",
       "      <th></th>\n",
       "      <th>survived</th>\n",
       "      <th>pclass</th>\n",
       "      <th>age</th>\n",
       "      <th>sibsp</th>\n",
       "      <th>parch</th>\n",
       "      <th>fare</th>\n",
       "      <th>embarked</th>\n",
       "      <th>class</th>\n",
       "      <th>adult_male</th>\n",
       "      <th>deck</th>\n",
       "      <th>embark_town</th>\n",
       "      <th>alive</th>\n",
       "      <th>sex_male</th>\n",
       "      <th>alone_True</th>\n",
       "      <th>who_man</th>\n",
       "      <th>who_woman</th>\n",
       "    </tr>\n",
       "  </thead>\n",
       "  <tbody>\n",
       "    <tr>\n",
       "      <th>0</th>\n",
       "      <td>0</td>\n",
       "      <td>3</td>\n",
       "      <td>22.0</td>\n",
       "      <td>1</td>\n",
       "      <td>0</td>\n",
       "      <td>7.2500</td>\n",
       "      <td>S</td>\n",
       "      <td>Third</td>\n",
       "      <td>True</td>\n",
       "      <td>NaN</td>\n",
       "      <td>Southampton</td>\n",
       "      <td>no</td>\n",
       "      <td>1</td>\n",
       "      <td>0</td>\n",
       "      <td>1</td>\n",
       "      <td>0</td>\n",
       "    </tr>\n",
       "    <tr>\n",
       "      <th>1</th>\n",
       "      <td>1</td>\n",
       "      <td>1</td>\n",
       "      <td>38.0</td>\n",
       "      <td>1</td>\n",
       "      <td>0</td>\n",
       "      <td>71.2833</td>\n",
       "      <td>C</td>\n",
       "      <td>First</td>\n",
       "      <td>False</td>\n",
       "      <td>C</td>\n",
       "      <td>Cherbourg</td>\n",
       "      <td>yes</td>\n",
       "      <td>0</td>\n",
       "      <td>0</td>\n",
       "      <td>0</td>\n",
       "      <td>1</td>\n",
       "    </tr>\n",
       "    <tr>\n",
       "      <th>2</th>\n",
       "      <td>1</td>\n",
       "      <td>3</td>\n",
       "      <td>26.0</td>\n",
       "      <td>0</td>\n",
       "      <td>0</td>\n",
       "      <td>7.9250</td>\n",
       "      <td>S</td>\n",
       "      <td>Third</td>\n",
       "      <td>False</td>\n",
       "      <td>NaN</td>\n",
       "      <td>Southampton</td>\n",
       "      <td>yes</td>\n",
       "      <td>0</td>\n",
       "      <td>1</td>\n",
       "      <td>0</td>\n",
       "      <td>1</td>\n",
       "    </tr>\n",
       "    <tr>\n",
       "      <th>3</th>\n",
       "      <td>1</td>\n",
       "      <td>1</td>\n",
       "      <td>35.0</td>\n",
       "      <td>1</td>\n",
       "      <td>0</td>\n",
       "      <td>53.1000</td>\n",
       "      <td>S</td>\n",
       "      <td>First</td>\n",
       "      <td>False</td>\n",
       "      <td>C</td>\n",
       "      <td>Southampton</td>\n",
       "      <td>yes</td>\n",
       "      <td>0</td>\n",
       "      <td>0</td>\n",
       "      <td>0</td>\n",
       "      <td>1</td>\n",
       "    </tr>\n",
       "    <tr>\n",
       "      <th>4</th>\n",
       "      <td>0</td>\n",
       "      <td>3</td>\n",
       "      <td>35.0</td>\n",
       "      <td>0</td>\n",
       "      <td>0</td>\n",
       "      <td>8.0500</td>\n",
       "      <td>S</td>\n",
       "      <td>Third</td>\n",
       "      <td>True</td>\n",
       "      <td>NaN</td>\n",
       "      <td>Southampton</td>\n",
       "      <td>no</td>\n",
       "      <td>1</td>\n",
       "      <td>1</td>\n",
       "      <td>1</td>\n",
       "      <td>0</td>\n",
       "    </tr>\n",
       "  </tbody>\n",
       "</table>\n",
       "</div>"
      ],
      "text/plain": [
       "   survived  pclass   age  sibsp  parch     fare embarked  class  adult_male  \\\n",
       "0         0       3  22.0      1      0   7.2500        S  Third        True   \n",
       "1         1       1  38.0      1      0  71.2833        C  First       False   \n",
       "2         1       3  26.0      0      0   7.9250        S  Third       False   \n",
       "3         1       1  35.0      1      0  53.1000        S  First       False   \n",
       "4         0       3  35.0      0      0   8.0500        S  Third        True   \n",
       "\n",
       "  deck  embark_town alive  sex_male  alone_True  who_man  who_woman  \n",
       "0  NaN  Southampton    no         1           0        1          0  \n",
       "1    C    Cherbourg   yes         0           0        0          1  \n",
       "2  NaN  Southampton   yes         0           1        0          1  \n",
       "3    C  Southampton   yes         0           0        0          1  \n",
       "4  NaN  Southampton    no         1           1        1          0  "
      ]
     },
     "execution_count": 95,
     "metadata": {},
     "output_type": "execute_result"
    }
   ],
   "source": [
    "titanic_with_dummies = pd.get_dummies(titanic, columns=_______________, drop_first=True)\n",
    "titanic_with_dummies.head()"
   ]
  },
  {
   "cell_type": "markdown",
   "metadata": {},
   "source": [
    "Niestety `pd.get_dummies()` zwraca nam cały oryginalny dataframe z doklejonymi nowymi kolumnami przedstawiającymi dodane zmienne podczas gdy my chcemy tylko te przekształcone. Z tego względu po wykorzystaniu `get_dummies` wybieramy same przekształcone kolumny z użyciem metody `.loc`\n",
    "### Ćwiczenie\n",
    "Skorzystaj z metody `.loc` dataframe'u `titanic_with_dummies` wybierając wszystkie wiersze i wszystkie kolumny zaczynając od `sex_male`. Zapisz uzyskany w ten sposób dataframe w zmiennej `titanic_only_dummies`."
   ]
  },
  {
   "cell_type": "code",
   "execution_count": 96,
   "metadata": {},
   "outputs": [
    {
     "data": {
      "text/html": [
       "<div>\n",
       "<style scoped>\n",
       "    .dataframe tbody tr th:only-of-type {\n",
       "        vertical-align: middle;\n",
       "    }\n",
       "\n",
       "    .dataframe tbody tr th {\n",
       "        vertical-align: top;\n",
       "    }\n",
       "\n",
       "    .dataframe thead th {\n",
       "        text-align: right;\n",
       "    }\n",
       "</style>\n",
       "<table border=\"1\" class=\"dataframe\">\n",
       "  <thead>\n",
       "    <tr style=\"text-align: right;\">\n",
       "      <th></th>\n",
       "      <th>sex_male</th>\n",
       "      <th>alone_True</th>\n",
       "      <th>who_man</th>\n",
       "      <th>who_woman</th>\n",
       "    </tr>\n",
       "  </thead>\n",
       "  <tbody>\n",
       "    <tr>\n",
       "      <th>0</th>\n",
       "      <td>1</td>\n",
       "      <td>0</td>\n",
       "      <td>1</td>\n",
       "      <td>0</td>\n",
       "    </tr>\n",
       "    <tr>\n",
       "      <th>1</th>\n",
       "      <td>0</td>\n",
       "      <td>0</td>\n",
       "      <td>0</td>\n",
       "      <td>1</td>\n",
       "    </tr>\n",
       "    <tr>\n",
       "      <th>2</th>\n",
       "      <td>0</td>\n",
       "      <td>1</td>\n",
       "      <td>0</td>\n",
       "      <td>1</td>\n",
       "    </tr>\n",
       "    <tr>\n",
       "      <th>3</th>\n",
       "      <td>0</td>\n",
       "      <td>0</td>\n",
       "      <td>0</td>\n",
       "      <td>1</td>\n",
       "    </tr>\n",
       "    <tr>\n",
       "      <th>4</th>\n",
       "      <td>1</td>\n",
       "      <td>1</td>\n",
       "      <td>1</td>\n",
       "      <td>0</td>\n",
       "    </tr>\n",
       "  </tbody>\n",
       "</table>\n",
       "</div>"
      ],
      "text/plain": [
       "   sex_male  alone_True  who_man  who_woman\n",
       "0         1           0        1          0\n",
       "1         0           0        0          1\n",
       "2         0           1        0          1\n",
       "3         0           0        0          1\n",
       "4         1           1        1          0"
      ]
     },
     "execution_count": 96,
     "metadata": {},
     "output_type": "execute_result"
    }
   ],
   "source": [
    "________________ = ____________.loc[_, ________:]\n",
    "titanic_only_dummies.head()"
   ]
  },
  {
   "cell_type": "markdown",
   "metadata": {},
   "source": [
    "Możemy teraz skleić dwa dataframe'y (`titanic_selected` oraz `titanic_only_dummies`) za pomocą funkcji `pd.concat()`. Nazwa tej funkcji pochodzi od *concatenate* tzn. łączyć, składać. Używamy argumentu nazwowego `axis=1` aby skleić dataframe'y w osi kolumn (oś pierwsza tzn. `axis=0` to wiersze, oś druga tzn. `axis=1` to kolumny)."
   ]
  },
  {
   "cell_type": "code",
   "execution_count": 31,
   "metadata": {},
   "outputs": [
    {
     "data": {
      "text/html": [
       "<div>\n",
       "<style scoped>\n",
       "    .dataframe tbody tr th:only-of-type {\n",
       "        vertical-align: middle;\n",
       "    }\n",
       "\n",
       "    .dataframe tbody tr th {\n",
       "        vertical-align: top;\n",
       "    }\n",
       "\n",
       "    .dataframe thead th {\n",
       "        text-align: right;\n",
       "    }\n",
       "</style>\n",
       "<table border=\"1\" class=\"dataframe\">\n",
       "  <thead>\n",
       "    <tr style=\"text-align: right;\">\n",
       "      <th></th>\n",
       "      <th>pclass</th>\n",
       "      <th>age</th>\n",
       "      <th>sibsp</th>\n",
       "      <th>parch</th>\n",
       "      <th>fare</th>\n",
       "      <th>sex_male</th>\n",
       "      <th>alone_True</th>\n",
       "      <th>who_man</th>\n",
       "      <th>who_woman</th>\n",
       "    </tr>\n",
       "  </thead>\n",
       "  <tbody>\n",
       "    <tr>\n",
       "      <th>0</th>\n",
       "      <td>3</td>\n",
       "      <td>22.0</td>\n",
       "      <td>1</td>\n",
       "      <td>0</td>\n",
       "      <td>7.2500</td>\n",
       "      <td>1</td>\n",
       "      <td>0</td>\n",
       "      <td>1</td>\n",
       "      <td>0</td>\n",
       "    </tr>\n",
       "    <tr>\n",
       "      <th>1</th>\n",
       "      <td>1</td>\n",
       "      <td>38.0</td>\n",
       "      <td>1</td>\n",
       "      <td>0</td>\n",
       "      <td>71.2833</td>\n",
       "      <td>0</td>\n",
       "      <td>0</td>\n",
       "      <td>0</td>\n",
       "      <td>1</td>\n",
       "    </tr>\n",
       "    <tr>\n",
       "      <th>2</th>\n",
       "      <td>3</td>\n",
       "      <td>26.0</td>\n",
       "      <td>0</td>\n",
       "      <td>0</td>\n",
       "      <td>7.9250</td>\n",
       "      <td>0</td>\n",
       "      <td>1</td>\n",
       "      <td>0</td>\n",
       "      <td>1</td>\n",
       "    </tr>\n",
       "    <tr>\n",
       "      <th>3</th>\n",
       "      <td>1</td>\n",
       "      <td>35.0</td>\n",
       "      <td>1</td>\n",
       "      <td>0</td>\n",
       "      <td>53.1000</td>\n",
       "      <td>0</td>\n",
       "      <td>0</td>\n",
       "      <td>0</td>\n",
       "      <td>1</td>\n",
       "    </tr>\n",
       "    <tr>\n",
       "      <th>4</th>\n",
       "      <td>3</td>\n",
       "      <td>35.0</td>\n",
       "      <td>0</td>\n",
       "      <td>0</td>\n",
       "      <td>8.0500</td>\n",
       "      <td>1</td>\n",
       "      <td>1</td>\n",
       "      <td>1</td>\n",
       "      <td>0</td>\n",
       "    </tr>\n",
       "  </tbody>\n",
       "</table>\n",
       "</div>"
      ],
      "text/plain": [
       "   pclass   age  sibsp  parch     fare  sex_male  alone_True  who_man  \\\n",
       "0       3  22.0      1      0   7.2500         1           0        1   \n",
       "1       1  38.0      1      0  71.2833         0           0        0   \n",
       "2       3  26.0      0      0   7.9250         0           1        0   \n",
       "3       1  35.0      1      0  53.1000         0           0        0   \n",
       "4       3  35.0      0      0   8.0500         1           1        1   \n",
       "\n",
       "   who_woman  \n",
       "0          0  \n",
       "1          1  \n",
       "2          1  \n",
       "3          1  \n",
       "4          0  "
      ]
     },
     "execution_count": 31,
     "metadata": {},
     "output_type": "execute_result"
    }
   ],
   "source": [
    "titanic_preproc = pd.concat([titanic_selected, titanic_only_dummies], axis=1)\n",
    "titanic_preproc.head()"
   ]
  },
  {
   "cell_type": "markdown",
   "metadata": {},
   "source": [
    "Reszta kolumn nie będzie nas interesować (przynajmniej na razie).  \n",
    "Pozostaje nam jeszcze pozbyć się brakujących wartości. Najprostsze rzeczy jakie możemy zrobić to:  \n",
    "* wyrzucić wszystkie wiersze, w których są jakiekolwiek brakujące dane\n",
    "* brakujące w danej kolumnie dane zastąpić średnią z tej kolumny\n",
    "\n",
    "### Ćwiczenie\n",
    "Wykorzystamy tę drugą metodę. Najpier użyjemy metody `.mean()` dataframe'u aby uzyskać średnią z każdej kolumny, a następnie skorzystamy z `.fillna()` - metody, która umożliwia zastępowanie braków danych wybranymi wartościami. Metodzie `fillna` podamy uzyskane średnie."
   ]
  },
  {
   "cell_type": "code",
   "execution_count": 32,
   "metadata": {},
   "outputs": [
    {
     "data": {
      "text/plain": [
       "pclass         2.308642\n",
       "age           29.699118\n",
       "sibsp          0.523008\n",
       "parch          0.381594\n",
       "fare          32.204208\n",
       "sex_male       0.647587\n",
       "alone_True     0.602694\n",
       "who_man        0.602694\n",
       "who_woman      0.304153\n",
       "dtype: float64"
      ]
     },
     "execution_count": 32,
     "metadata": {},
     "output_type": "execute_result"
    }
   ],
   "source": [
    "średnie = titanic_preproc.____()\n",
    "średnie"
   ]
  },
  {
   "cell_type": "code",
   "execution_count": 33,
   "metadata": {
    "collapsed": true
   },
   "outputs": [],
   "source": [
    "titanic_preproc = titanic_preproc.fillna(______)"
   ]
  },
  {
   "cell_type": "markdown",
   "metadata": {},
   "source": [
    "To już koniec przekształceń! Możemy nagrodzić się obrazkiem fragmentu naszych danych.\n",
    "(w przykładzize poniżej korzystamy z `.values` aby dostać się do macierzy danych, porzucając skorupkę dataframe'u tzn. nazwy kolumn i wierszy; korzystamy też z funkcji `zscore` aby wystandaryzować kolumny (tzn wykonać standaryzację \"wzdłuż wierszy\" `axis=0`):"
   ]
  },
  {
   "cell_type": "code",
   "execution_count": 24,
   "metadata": {},
   "outputs": [
    {
     "data": {
      "text/plain": [
       "<matplotlib.image.AxesImage at 0x26eb7523b00>"
      ]
     },
     "execution_count": 24,
     "metadata": {},
     "output_type": "execute_result"
    },
    {
     "data": {
      "image/png": "[encoded data removed]",
      "text/plain": [
       "<matplotlib.figure.Figure at 0x26eb74e4f28>"
      ]
     },
     "metadata": {},
     "output_type": "display_data"
    }
   ],
   "source": [
    "from scipy.stats import zscore\n",
    "\n",
    "data = titanic_preproc.values[:15, :]\n",
    "data = zscore(data, axis=0)\n",
    "plt.imshow(data, cmap='viridis')"
   ]
  },
  {
   "cell_type": "markdown",
   "metadata": {},
   "source": [
    "### Dzielenie na dane treningowe i testowe"
   ]
  },
  {
   "cell_type": "markdown",
   "metadata": {},
   "source": [
    "Interesuje nas przewidywanie przeżycia tzn. kolumny `survived`, zapiszemy ją sobie w formacie numpy w zmiennej `y`.\n",
    "### Ćwiczenie\n",
    "zapisz wartości kolumny `survived` w zmiennej `y`. Pamiętaj aby dostać się do parametru `.values` danej kolumny - w ten sposób wyciągniesz dane bez opisu kolumn i wierszy tzn. zwykła macierz numpy."
   ]
  },
  {
   "cell_type": "code",
   "execution_count": 34,
   "metadata": {
    "collapsed": true
   },
   "outputs": [],
   "source": [
    "y = titanic.________._____"
   ]
  },
  {
   "cell_type": "markdown",
   "metadata": {},
   "source": [
    "Dzielimy nasze dane (`titanic_preproc`) i zmienną zależną (`y`) na zbiór testowy i treningowy. Chcemy aby zbiór testowy wynosił 30% treningowego, dodatkowo podajemy `random_state` aby losowanie było takie same nawet jak uruchomimy ten notebook ponownie (a także między różnymi komputerami).\n",
    "### Ćwiczenie\n",
    "Uzupełnij brakujące pola. Pamiętaj, że `titanic_preproc` to dataframe, a do `train_test_split` chcemy podać macierz."
   ]
  },
  {
   "cell_type": "code",
   "execution_count": 35,
   "metadata": {
    "collapsed": true
   },
   "outputs": [],
   "source": [
    "X_train, X_test, y_train, y_test = train_test_split(titanic_preproc.______, y, test_size=___, random_state=42)"
   ]
  },
  {
   "cell_type": "markdown",
   "metadata": {},
   "source": [
    "Najpierw zobaczmy jak nam idzie przewidywanie dla dwóch zmiennych, z których korzystaliśmy wcześniej budując model statystyczny: `pclass` oraz `who_man`. Przypomnijmy sobie, które są to kolumny w naszej macierzy (wiemy o tym ponieważ tworzyliśmy na bieżąco listę nazw kolumn `columns`):"
   ]
  },
  {
   "cell_type": "code",
   "execution_count": 27,
   "metadata": {},
   "outputs": [
    {
     "name": "stdout",
     "output_type": "stream",
     "text": [
      "Index(['pclass', 'age', 'sibsp', 'parch', 'fare', 'sex_male', 'alone_True',\n",
      "       'who_man', 'who_woman'],\n",
      "      dtype='object')\n"
     ]
    }
   ],
   "source": [
    "print(titanic_preproc.columns)"
   ]
  },
  {
   "cell_type": "markdown",
   "metadata": {},
   "source": [
    "Pierwsza oraz przedostatnia kolumna - wybierzemy je teraz zarówno dla danych treningowych jak i testowych:"
   ]
  },
  {
   "cell_type": "code",
   "execution_count": 28,
   "metadata": {},
   "outputs": [],
   "source": [
    "xtr = X_train[:, [0, -2]]\n",
    "xts = X_test[:, [0, -2]]"
   ]
  },
  {
   "cell_type": "markdown",
   "metadata": {},
   "source": [
    "### Przewidujemy (na razie z użyciem dwóch zmiennych)"
   ]
  },
  {
   "cell_type": "markdown",
   "metadata": {},
   "source": [
    "Korztystamy z regresji logistycznej (wcześniej wczytanej funkcji `LogisticRegression`) - najpierw tworzymy klasyfikator (regresję logistyczną):"
   ]
  },
  {
   "cell_type": "code",
   "execution_count": 29,
   "metadata": {
    "collapsed": true
   },
   "outputs": [],
   "source": [
    "logistic_model = LogisticRegression()"
   ]
  },
  {
   "cell_type": "markdown",
   "metadata": {},
   "source": [
    "Teraz korzystamy z metody `.fit()` klasyfikatora aby dopasować go do danych treningowych:\n",
    "* `xtr`, macierzy zawierającej dwie kolumny z `data_matrix`\n",
    "* `y_train` informacji o przeżyciu pasażera (odpowiadających kolejnym wierszom z `data_matrix`)"
   ]
  },
  {
   "cell_type": "code",
   "execution_count": 30,
   "metadata": {},
   "outputs": [
    {
     "data": {
      "text/plain": [
       "LogisticRegression(C=1.0, class_weight=None, dual=False, fit_intercept=True,\n",
       "          intercept_scaling=1, max_iter=100, multi_class='ovr', n_jobs=1,\n",
       "          penalty='l2', random_state=None, solver='liblinear', tol=0.0001,\n",
       "          verbose=0, warm_start=False)"
      ]
     },
     "execution_count": 30,
     "metadata": {},
     "output_type": "execute_result"
    }
   ],
   "source": [
    "logistic_model.___(xtr, y_train)"
   ]
  },
  {
   "cell_type": "markdown",
   "metadata": {},
   "source": [
    "Możemy następnie wygenerować przewidywania dla danych testowych (`xts`) korzystając z metody `.predict`:"
   ]
  },
  {
   "cell_type": "code",
   "execution_count": 31,
   "metadata": {
    "collapsed": true
   },
   "outputs": [],
   "source": [
    "predictions = logistic_model._______(xts)"
   ]
  },
  {
   "cell_type": "code",
   "execution_count": 32,
   "metadata": {},
   "outputs": [
    {
     "data": {
      "text/plain": [
       "array([0, 0, 0, 1, 1, 1, 1, 0], dtype=int64)"
      ]
     },
     "execution_count": 32,
     "metadata": {},
     "output_type": "execute_result"
    }
   ],
   "source": [
    "predictions[:8]"
   ]
  },
  {
   "cell_type": "markdown",
   "metadata": {},
   "source": [
    "Przewidywania to po prostu zera i jedynki odpowiadające ocenie nie przeżyje (0) oraz przeżyje (1). Możemy je teraz porównać z faktycznym losem pasażerów znajdujących się w zbiorze testowym (`y_test`). Porównujemy `predictions` z `y_test` z użyciem identyczności (`==`), co daje nam listę (a konkretnie wektor) zer i jedynek - zera gdzie predykcja nie zgadza się z faktycznym losem, jeden gdzie predykcja jest trafna. Uśrednienie tej listy daje nam średnią poprawność predykcji naszego modelu:"
   ]
  },
  {
   "cell_type": "code",
   "execution_count": 33,
   "metadata": {},
   "outputs": [
    {
     "name": "stdout",
     "output_type": "stream",
     "text": [
      "Poprawność przewidywania naszego modelu to: 0.7947761194029851\n"
     ]
    }
   ],
   "source": [
    "poprawność = (predictions == y_test).mean()\n",
    "print('Poprawność przewidywania naszego modelu to:', poprawność)"
   ]
  },
  {
   "cell_type": "markdown",
   "metadata": {},
   "source": [
    "79% to całkiem nieźle, to prawie 80% poprawności przewidywań w oparciu tylko o dwie zmienne. Zanim przejdziemy dalej, spróbujemy zrozumieć lepiej co robi regresja logistyczne w oparciu o te dwie zmienne. W tym celu narysujemy sobie na jednym wykresie punkty odpowiadające pasażerom (kolorami oznaczając czy przeżyli). Oś x tego wykresu to będzie klasa biletu, natomiast oś y reprezentować będzie czy pasażer jest mężczyzną (nie-dzieckiem, przy czym nie mówimy tu o stanie umysłu):\n",
    "<div class=\"alert alert-danger\">\n",
    "Uwaga!  \n",
    "Kod pojawiający się poniżej przygotowujący wykresy może być dla Was czarną magią, nie musicie go zupełnie rozumieć. Ważne jest tylko zrozumienie _wykresu_.\n",
    "</div>"
   ]
  },
  {
   "cell_type": "code",
   "execution_count": 34,
   "metadata": {},
   "outputs": [
    {
     "data": {
      "text/plain": [
       "<matplotlib.legend.Legend at 0x26eb51bd2e8>"
      ]
     },
     "execution_count": 34,
     "metadata": {},
     "output_type": "execute_result"
    },
    {
     "data": {
      "image/png": "[encoded data removed]",
      "text/plain": [
       "<matplotlib.figure.Figure at 0x26eb7536828>"
      ]
     },
     "metadata": {},
     "output_type": "display_data"
    }
   ],
   "source": [
    "alive = y_train == 1\n",
    "x = xtr + np.random.rand(*xtr.shape) * 0.5 - 0.25\n",
    "\n",
    "plt.scatter(x[~alive, 0], x[~alive, 1], alpha=0.5, label='zmarł')\n",
    "plt.scatter(x[alive, 0], x[alive, 1], alpha=0.5, label='przeżył')\n",
    "\n",
    "plt.xticks([1, 2, 3])\n",
    "plt.yticks([0, 1], ['nie-mężczyzna', 'mężczyzna'])\n",
    "plt.legend(loc='best')"
   ]
  },
  {
   "cell_type": "markdown",
   "metadata": {},
   "source": [
    "Zwróćcie uwagę, że punkty są rozproszone dla czytelności, faktycznie każdy punkt zajmuje tylko jedną z sześciu pozycji (3 na osi x * 2 na osi y).  \n",
    "Regresja logistyczna dzieli nam tę dwu-wymiarową przestrzeń prostą linią tak aby jak najlepiej rozseparować żywych od matrwych."
   ]
  },
  {
   "cell_type": "code",
   "execution_count": 36,
   "metadata": {},
   "outputs": [
    {
     "data": {
      "text/plain": [
       "Text(0,0.5,'Prawdopodobieństwo przeżycia')"
      ]
     },
     "execution_count": 36,
     "metadata": {},
     "output_type": "execute_result"
    },
    {
     "data": {
      "image/png": "[encoded data removed]",
      "text/plain": [
       "<matplotlib.figure.Figure at 0x26eb7559588>"
      ]
     },
     "metadata": {},
     "output_type": "display_data"
    }
   ],
   "source": [
    "xx = np.linspace(0.5, 3.5, 100)\n",
    "yy = np.linspace(-0.5, 1.5, 100).T\n",
    "xx, yy = np.meshgrid(xx, yy)\n",
    "full_grid = np.c_[xx.ravel(), yy.ravel()]\n",
    "\n",
    "prob = logistic_model.predict_proba(full_grid)[:, 1].reshape((100, 100))\n",
    "\n",
    "img = plt.imshow(prob, extent=[0.5, 3.5, -0.5, 1.5], origin='lower', cmap='viridis', aspect='auto')\n",
    "\n",
    "plt.scatter(x[~alive, 0], x[~alive, 1], alpha=0.5, label='zmarł')\n",
    "plt.scatter(x[alive, 0], x[alive, 1], alpha=0.5, label='przeżył')\n",
    "\n",
    "plt.contour(xx, yy, prob, levels=[0.5])\n",
    "\n",
    "plt.xticks([1, 2, 3])\n",
    "plt.yticks([0, 1], ['nie-mężczyzna', 'mężczyzna'])\n",
    "plt.legend(loc='best', frameon=True, fancybox=True)\n",
    "plt.grid('off')\n",
    "cbar = plt.colorbar(img)\n",
    "cbar.ax.set_ylabel('Prawdopodobieństwo przeżycia', fontsize=12)"
   ]
  },
  {
   "cell_type": "markdown",
   "metadata": {},
   "source": [
    "Widzimy, że regresja logistyczna przyporządkowuje punktom w powyższej, dwuwymiarowej przestrzeni, prawdopodobieństwo należenia do klasy \"przeżył\" - zaznaczone kolorem. Czarna linia to linia decyzyjna regresji logistycznej - powyżej tej linii prawdopodobieństwo przeżycia wynosi mniej niż 50%, poniżej - więcej niż 50%. Linia ta układa się w taki sposób, że sugeruje, że nasz sukces w przewidywaniu (poprawność 79%) wynika tylko z wykorzystania zmiennej `who_man`. \n",
    "### Ćwiczenie\n",
    "Możesz to sprawdzić dopasowując model korzystający tylko z jednej zmiennej:"
   ]
  },
  {
   "cell_type": "code",
   "execution_count": 129,
   "metadata": {},
   "outputs": [
    {
     "name": "stdout",
     "output_type": "stream",
     "text": [
      "Poprawność przewidywania naszego modelu to: 0.7947761194029851\n"
     ]
    }
   ],
   "source": [
    "xtrain = X_train[:, [-2]]\n",
    "xtest = X_test[:, [-2]]\n",
    "\n",
    "logistic_model.___(xtrain, y_train)\n",
    "predictions = logistic_model.______(xtest)\n",
    "\n",
    "poprawność = (__________ == y_test).____()\n",
    "print('Poprawność przewidywania naszego modelu to:', _________)"
   ]
  },
  {
   "cell_type": "markdown",
   "metadata": {},
   "source": [
    "### Korzystamy ze wszystkich zmiennych:"
   ]
  },
  {
   "cell_type": "markdown",
   "metadata": {},
   "source": [
    "Gdy chcemy skorzystać ze wszystkich zmiennych dobrze jest:\n",
    "* poradzić sobie z brakami danych\n",
    "* wystandaryzować zmienne\n",
    "\n",
    "Z brakami danych uporaliśmy się już wcześniej.\n",
    "\n",
    "#### Standaryzacja\n",
    "Korzystamy ze `StandardScaler` i jego metody `.fit_transform()` za pomocą której szybko dokonujemy standaryzacji każdej zmiennej (kolumny) w macierzy treningowej i testowej."
   ]
  },
  {
   "cell_type": "code",
   "execution_count": 39,
   "metadata": {},
   "outputs": [
    {
     "data": {
      "text/plain": [
       "LogisticRegression(C=1.0, class_weight=None, dual=False, fit_intercept=True,\n",
       "          intercept_scaling=1, max_iter=100, multi_class='ovr', n_jobs=1,\n",
       "          penalty='l2', random_state=None, solver='liblinear', tol=0.0001,\n",
       "          verbose=0, warm_start=False)"
      ]
     },
     "execution_count": 39,
     "metadata": {},
     "output_type": "execute_result"
    }
   ],
   "source": [
    "from sklearn.preprocessing import StandardScaler\n",
    "\n",
    "std = StandardScaler()\n",
    "X_train_std = std.fit_transform(X_train)\n",
    "X_test_std = std.fit_transform(X_test)\n",
    "\n",
    "logistic_model.fit(X_train_std, y_train)"
   ]
  },
  {
   "cell_type": "markdown",
   "metadata": {},
   "source": [
    "### Ćwiczenie\n",
    "Utwórz funkcję `show_correctness` która przyjmuje: \n",
    "* dopasowany model\n",
    "* dane testowe (`X_test` oraz `y_test`)\n",
    "\n",
    "i wyświetla poprawność."
   ]
  },
  {
   "cell_type": "code",
   "execution_count": null,
   "metadata": {
    "collapsed": true
   },
   "outputs": [],
   "source": [
    "# tutaj utwórz funkcję"
   ]
  },
  {
   "cell_type": "code",
   "execution_count": 41,
   "metadata": {},
   "outputs": [
    {
     "name": "stdout",
     "output_type": "stream",
     "text": [
      "Poprawność przewidywania naszego modelu to: 0.8171641791044776\n"
     ]
    }
   ],
   "source": [
    "# a tutaj sprawdź czy dobrze działa\n",
    "show_correctness(logistic_model, X_test, y_tetst)"
   ]
  },
  {
   "cell_type": "markdown",
   "metadata": {},
   "source": [
    "Tylko nieco lepiej niż w sytuacji naszej jednej zmiennej - 81.7%.\n",
    "Poprawić ten wynik moglibyśmy:\n",
    "* dostosowując hiperparametry naszego klasyfikatora (regresji logistycznej)\n",
    "* tworząc nowe zmienne (predyktory) np. obrazujące interakcję między niektórymi zmiennymi\n",
    "* albo używając innego klasyfikatora (np. sieci neuronowej, która potrafi sama utworzyć sobie nowe predyktory np. interakcje z danych)  \n",
    "\n",
    "W przypadku danych `titanic` stosując regresję logistyczną nie uda nam się osiągnąć wyższej poprawności niż `81.7%`, spróbujemy w związku z tym innego klasyfikatora - maszyny wektorów nośnych, *support vector machine* (SVM). W naszym wypadku problem dotyczy klasyfikacji w związku z czym mamy do czynienia z *support vector classifier* (SVC)."
   ]
  },
  {
   "cell_type": "code",
   "execution_count": 15,
   "metadata": {
    "collapsed": true
   },
   "outputs": [],
   "source": [
    "from sklearn.svm import SVC"
   ]
  },
  {
   "cell_type": "markdown",
   "metadata": {},
   "source": [
    "Aby przedstawić Wam podstawową różnicę między regresją logistyczną a SVM, wygenerujemy prosty dataset, którego nie da się rozdzielić dobrze jedną linią:"
   ]
  },
  {
   "cell_type": "code",
   "execution_count": 19,
   "metadata": {},
   "outputs": [
    {
     "data": {
      "text/plain": [
       "(-2, 3.2)"
      ]
     },
     "execution_count": 19,
     "metadata": {},
     "output_type": "execute_result"
    },
    {
     "data": {
      "image/png": "[encoded data removed]",
      "text/plain": [
       "<matplotlib.figure.Figure at 0x29f16d35b00>"
      ]
     },
     "metadata": {},
     "output_type": "display_data"
    }
   ],
   "source": [
    "from sklearn.datasets import make_moons\n",
    "from emosie import plot_decision\n",
    "\n",
    "# tworzymy data_moon - punkty w 2d (macierz o wymiarach (ilość_punktów, 2))\n",
    "# data_moon reprezentuje zmienne za pomocą,k tórych przewidujemy - X\n",
    "# oraz classes_moon - to informacja o klasie do której należy każdy z punktów,\n",
    "# tzn. informacje, które chcemy przewidywać (y)\n",
    "data_moon, classes_moon = make_moons(noise=0.2, random_state=42)\n",
    "\n",
    "# wyświetlamy punkty i ustawiamy zakres osi\n",
    "plot_decision(data_moon, classes_moon)\n",
    "plt.ylim((-1.5, 2))\n",
    "plt.xlim((-2, 3.2))"
   ]
  },
  {
   "cell_type": "markdown",
   "metadata": {},
   "source": [
    "### Ćwiczenie\n",
    "Najpierw dopasuj do tych danych regresję logistyczną. Nie przejmuj się podziałem na zbiór testowy i treningowy, nie jest to nam potrzebne by zademonstrować różnice między regresją logistyczną i SVC:"
   ]
  },
  {
   "cell_type": "code",
   "execution_count": 116,
   "metadata": {},
   "outputs": [
    {
     "data": {
      "text/plain": [
       "LogisticRegression(C=1.0, class_weight=None, dual=False, fit_intercept=True,\n",
       "          intercept_scaling=1, max_iter=100, multi_class='ovr', n_jobs=1,\n",
       "          penalty='l2', random_state=None, solver='liblinear', tol=0.0001,\n",
       "          verbose=0, warm_start=False)"
      ]
     },
     "execution_count": 116,
     "metadata": {},
     "output_type": "execute_result"
    }
   ],
   "source": [
    "# tutaj ćwiczenie - dopasuj regresję logistyczną\n",
    "lgr = _________________()\n",
    "___.___(_________, ___________)"
   ]
  },
  {
   "cell_type": "markdown",
   "metadata": {},
   "source": [
    "Gdy już dopasujesz regresję logistyczną użyj kodu poniżej aby zobaczyć jak dzieli ona wygenerowane dane na dwie grupy i jaką ma poprawność:"
   ]
  },
  {
   "cell_type": "code",
   "execution_count": 12,
   "metadata": {},
   "outputs": [
    {
     "data": {
      "text/plain": [
       "LogisticRegression(C=1.0, class_weight=None, dual=False, fit_intercept=True,\n",
       "          intercept_scaling=1, max_iter=100, multi_class='ovr', n_jobs=1,\n",
       "          penalty='l2', random_state=None, solver='liblinear', tol=0.0001,\n",
       "          verbose=0, warm_start=False)"
      ]
     },
     "execution_count": 12,
     "metadata": {},
     "output_type": "execute_result"
    }
   ],
   "source": [
    "lgr=LogisticRegression()\n",
    "lgr.fit(data_moon, classes_moon)"
   ]
  },
  {
   "cell_type": "code",
   "execution_count": null,
   "metadata": {
    "collapsed": true
   },
   "outputs": [],
   "source": [
    "plot_decision(data_moon, classes_moon, clf=___)"
   ]
  },
  {
   "cell_type": "markdown",
   "metadata": {},
   "source": [
    "### Ćwiczenie\n",
    "Teraz utwórz i dopasuj do danych SVC (logika jest ta sama co w przypadku regresji logistycznej). W ostatniej linijce wyświetl rezultaty dopasowania."
   ]
  },
  {
   "cell_type": "code",
   "execution_count": null,
   "metadata": {
    "collapsed": true
   },
   "outputs": [],
   "source": [
    "svc = SVC()\n",
    "___.fit(_______, _________)\n",
    "plot_decision(________, ________, clf=___)"
   ]
  },
  {
   "cell_type": "markdown",
   "metadata": {},
   "source": [
    "## Zabawa hiperparametrami\n",
    "Algorytmy klasyfikacyjne używane w uczeniu maszynowym mają parametry, które są dopasowywane w oparciu o dane tak aby jak najlepiej odseparować od siebie klasy (przypomnijcie sobie przykład parametrów funkcji logistycznej z zajęć). Algorytmy te mają też tzw. **hiperparametry** czyli parametry, które nie są dopasowywane w oparciu o dane (których algorytm nie potrafi się nauczyć z danych). W przypadku SVC te parametry to `C` (regularyzacja czyli w tym wypadku koszt jaki algorytm płaci za skupianie się na wielu pojedynczych punktach), `gamma` (wpływa na kształt dopasowywanej funkcji - im niższa wartość tym kształt jest gładszy). Aby lepiej zrozumieć te parametry poniżej wyświetlicie sobie rezultaty klasyfikacji naszego małego datasetu z użyciem różnych ich wartości. \n",
    "### Ćwiczenie\n",
    "Zacznijmy od parametru `gamma`, stwórz poniżej klasyfikator SVC ustawiając parametr `gamma` na `1.5`. Następnie wyświetl rezultaty dopasowania."
   ]
  },
  {
   "cell_type": "code",
   "execution_count": null,
   "metadata": {
    "collapsed": true
   },
   "outputs": [],
   "source": [
    "___ = SVC(gamma=___)\n",
    "___.___(________, ________)\n",
    "plot_decision(________, __________, clf=___)"
   ]
  },
  {
   "cell_type": "markdown",
   "metadata": {},
   "source": [
    "Zobacz teraz co się stanie gdy ustawisz parametr gamma na wyższe wartości np. `5` a następnie `25`. A teraz zobacz jak zachowuje się SVC gdy `gamma` wynosi `0.1` albo `0.01`.  \n",
    "Jak myślisz, które ustawienie tego parametru jest najlepsze pod kątem predykcji - tzn. nie pod względem poprawności dopasowania do danych treningowych, ale poprawnej klasyfikacji nowych danych (nie zupełnie nowych w znaczeniu innych np. opisujących inne zajwisko, ale danych pochodzących z tego samego rozkładu ale wcześniej nie obserwowanych)."
   ]
  },
  {
   "cell_type": "code",
   "execution_count": null,
   "metadata": {
    "collapsed": true
   },
   "outputs": [],
   "source": [
    "___ = SVC(gamma=___)\n",
    "___.___(________, ________)\n",
    "plot_decision(________, __________, clf=___)"
   ]
  },
  {
   "cell_type": "markdown",
   "metadata": {},
   "source": [
    "### Ćwiczenie\n",
    "Teraz zobaczmy jak zachowuje się parametr `C`. Ustawmy parametr gamma na razie na `0.5` i sprawdźmy różne wartości parametru `C`. Stwórz dwa klasyfikatory, pierwszy z wartością `C` równą `0.5` a drugi z `C` równym `10.`."
   ]
  },
  {
   "cell_type": "code",
   "execution_count": null,
   "metadata": {
    "collapsed": true
   },
   "outputs": [],
   "source": [
    "svc1 = ___(gamma=___, C=___)\n",
    "svc2 = ___(gamma=___, C=___)\n",
    "\n",
    "# dodatkowy kod aby były dwa oddzielne panele na wykresie\n",
    "fig, ax = plt.subplots(ncols=2, figsize=(10, 4))\n",
    "plt.sca(ax[0])\n",
    "\n",
    "# dopasuje i wyświetl PIERWSZY klasyfikator\n",
    "___.___(________, ________)\n",
    "plot_decision(________, __________, clf=___)\n",
    "\n",
    "# ustawiamy teraz drugi panel jako aktywny\n",
    "plt.sca(ax[1])\n",
    "\n",
    "# dopasuje i wyświetl DRUGI klasyfikator\n",
    "___.___(________, ________)\n",
    "plot_decision(________, __________, clf=___)"
   ]
  },
  {
   "cell_type": "markdown",
   "metadata": {},
   "source": [
    "Teraz ustaw `C` klasyfikatora na lewym wykresie na `0.1` a tego po prawej stronie `1000.`. Zmień kod powyżej albo skopiuj i zmień w komórce poniżej. Sprawdź jeszcze ustawienie z wysokim `C` i wyższym `gamma` np. `C=1000., gamma=3.5`."
   ]
  },
  {
   "cell_type": "code",
   "execution_count": 27,
   "metadata": {},
   "outputs": [
    {
     "name": "stderr",
     "output_type": "stream",
     "text": [
      "C:\\Anaconda3\\lib\\site-packages\\matplotlib\\contour.py:967: UserWarning: The following kwargs were not used by contour: 'anitaliasing'\n",
      "  s)\n",
      "C:\\Anaconda3\\lib\\site-packages\\matplotlib\\contour.py:967: UserWarning: The following kwargs were not used by contour: 'edgecolor'\n",
      "  s)\n"
     ]
    },
    {
     "data": {
      "image/png": "[encoded data removed]",
      "text/plain": [
       "<matplotlib.figure.Figure at 0x29f16c67668>"
      ]
     },
     "metadata": {},
     "output_type": "display_data"
    }
   ],
   "source": [
    "#"
   ]
  },
  {
   "cell_type": "markdown",
   "metadata": {},
   "source": [
    "## Wracamy do tytanika\n",
    "Rozumiemy już mniej więcej czym charakteryzują się parametry `C` oraz `gamma`, wiemy że algorytm nie dopsowuje ich samodzielnie, ale trzeba mu je podać. Spróbujmy teraz:\n",
    "* dopasować do danych testowych tytanika dopasować SVC z domyślnymi parametrami i na danych testowych sprawdzić poprawność klasyfikacji\n",
    "* zmienić parametry `C` oraz `gamma` tak aby zwiększyć poprawność na danych testowych (podpowiedź - najlepiej będą działać wysokie wartości `C` oraz bardzo niskie wartości `gamma` (poniżej `0.0001`).  \n",
    "\n",
    "Czy jesteś w stanie wydusić poprawność powyżej 80% z wykorzystaniem SVC?"
   ]
  },
  {
   "cell_type": "code",
   "execution_count": null,
   "metadata": {
    "collapsed": true
   },
   "outputs": [],
   "source": [
    "svc = SVC()\n",
    "___.___(X_train, ______)\n",
    "_________ = ___._______(_____)\n",
    "\n",
    "poprawność = (___________ == ______).____()\n",
    "print('Poprawność przewidywania naszego modelu to:', poprawność)"
   ]
  },
  {
   "cell_type": "markdown",
   "metadata": {},
   "source": [
    "Zamiast sprawdzać parametry ręcznie możemy usprawnić proces na dwa sposoby:\n",
    "* sprawdzać automatycznie wszystkie kombinacje wybranych hiperparametrów\n",
    "* sprawdzać hiperparametry w trybie k-fold (np. 5-fold) na danych treningowych i dopiero po wybraniu hiperparametrów sprawdzać poprawność na danych testowych. W innym wypadku trochę oszukujemy - sprawdzamy wiele różnych parametrów pod kątem tego jak dobrze sprawdzają się na danych testowych a później mówimy \"o, proszę, co za nispodzianka, klasyfikator działa dobrze dla danych testowych!\". To problem porównywalny do *wielokrotnych porównań* w statystyce."
   ]
  },
  {
   "cell_type": "markdown",
   "metadata": {},
   "source": [
    "Utwórzmy najpierw słownik `parametry`, który zawiera wszystkie parametry dla `gamma` oraz `C`, które chcemy sprawdzić:"
   ]
  },
  {
   "cell_type": "code",
   "execution_count": 85,
   "metadata": {
    "collapsed": true
   },
   "outputs": [],
   "source": [
    "parametry = {'gamma': [0.01, 1e-3, 2e-4, 1e-4, 1e-5],\n",
    "             'C': [1, 10, 100, 1000]}"
   ]
  },
  {
   "cell_type": "markdown",
   "metadata": {},
   "source": [
    "Następnie wykorzystamy `GridSearchCV` aby przetestować wszystkie pary opisanych wyżej parametrów w trybie 5-fold na danych treningowych. Dopiero wtedy sprawdzimy jak klasyfikator sobie radzi na danych testowych."
   ]
  },
  {
   "cell_type": "code",
   "execution_count": 86,
   "metadata": {
    "collapsed": true
   },
   "outputs": [],
   "source": [
    "from sklearn.model_selection import GridSearchCV\n",
    "\n",
    "clf = GridSearchCV(SVC(), parametry, cv=5)"
   ]
  },
  {
   "cell_type": "markdown",
   "metadata": {},
   "source": [
    "### Ćwiczenie\n",
    "`GridSearchCV` zwraca nam obiekt, który zachowuje się ja klasyfikator: ma metodę `.fit()`, z której musisz skorzystać poniżej aby dopasować klasyfikator do danych treningowych:"
   ]
  },
  {
   "cell_type": "code",
   "execution_count": null,
   "metadata": {
    "collapsed": true
   },
   "outputs": [],
   "source": [
    "clf.___(______, _______)"
   ]
  },
  {
   "cell_type": "markdown",
   "metadata": {},
   "source": [
    "Możemy teraz sprawdzić jakie parametry okazały się najlepsze:"
   ]
  },
  {
   "cell_type": "code",
   "execution_count": 88,
   "metadata": {},
   "outputs": [
    {
     "data": {
      "text/plain": [
       "{'C': 1000, 'gamma': 0.0001}"
      ]
     },
     "execution_count": 88,
     "metadata": {},
     "output_type": "execute_result"
    }
   ],
   "source": [
    "clf.best_params_"
   ]
  },
  {
   "cell_type": "markdown",
   "metadata": {},
   "source": [
    "Ok, a ile wyniosła poprawność uśredniona po wszysktkich \"foldach\"?"
   ]
  },
  {
   "cell_type": "code",
   "execution_count": 91,
   "metadata": {},
   "outputs": [
    {
     "data": {
      "text/plain": [
       "0.812199036918138"
      ]
     },
     "execution_count": 91,
     "metadata": {},
     "output_type": "execute_result"
    }
   ],
   "source": [
    "clf.best_score_"
   ]
  },
  {
   "cell_type": "markdown",
   "metadata": {},
   "source": [
    "Możemy też sprawdzić jak poradziły sobie wszystkie testowane klasyfikatory (każdy to unikatowe zestawienie `gamma` oraz `C`):"
   ]
  },
  {
   "cell_type": "code",
   "execution_count": 92,
   "metadata": {},
   "outputs": [
    {
     "data": {
      "text/plain": [
       "array([0.71589085, 0.69020867, 0.66613162, 0.66773676, 0.64847512,\n",
       "       0.75922953, 0.76886035, 0.70304976, 0.68860353, 0.66773676,\n",
       "       0.74638844, 0.78812199, 0.79935795, 0.80417335, 0.68860353,\n",
       "       0.73033708, 0.78009631, 0.80096308, 0.81219904, 0.80898876])"
      ]
     },
     "execution_count": 92,
     "metadata": {},
     "output_type": "execute_result"
    }
   ],
   "source": [
    "clf.cv_results_['mean_test_score']"
   ]
  },
  {
   "cell_type": "markdown",
   "metadata": {},
   "source": [
    "### Ćwiczenie\n",
    "Wykorzystaj `clf` aby sprawdzić poprawność na danych testowych. Kod będzie wyglądał tak samo jak wcześniej, upewnij się tylko aby dobrze nazwyć klasyfikator (teraz znajduje się w zmiennej `clf`):"
   ]
  },
  {
   "cell_type": "code",
   "execution_count": null,
   "metadata": {
    "collapsed": true
   },
   "outputs": [],
   "source": []
  },
  {
   "cell_type": "markdown",
   "metadata": {},
   "source": [
    "Chociaż użyliśmy bardziej skomplikowanego klasyfikatora, nie udało nam się osiągnąć wyższej poprawności niż z użyciem stosunkowo prostej regresji logistycznej. Czasami zależności obecne w danych nie są na tyle złożone aby potrzeba było korzystać ze złożonych algorytmów. Warto o tym pamiętać gdy zaczniemy się bawić sieciami neuronowymi :)"
   ]
  }
 ],
 "metadata": {
  "kernelspec": {
   "display_name": "Python [Root]",
   "language": "python",
   "name": "Python [Root]"
  },
  "language_info": {
   "codemirror_mode": {
    "name": "ipython",
    "version": 3
   },
   "file_extension": ".py",
   "mimetype": "text/x-python",
   "name": "python",
   "nbconvert_exporter": "python",
   "pygments_lexer": "ipython3",
   "version": "3.5.1"
  }
 },
 "nbformat": 4,
 "nbformat_minor": 2
}
