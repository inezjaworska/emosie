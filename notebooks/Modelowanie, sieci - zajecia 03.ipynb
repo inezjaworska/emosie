{
 "cells": [
  {
   "cell_type": "markdown",
   "metadata": {},
   "source": [
    "# Modelowanie - warsztaty"
   ]
  },
  {
   "cell_type": "code",
   "execution_count": 1,
   "metadata": {
    "collapsed": true
   },
   "outputs": [],
   "source": [
    "import numpy as np\n",
    "import pandas as pd\n",
    "import matplotlib.pyplot as plt"
   ]
  },
  {
   "cell_type": "code",
   "execution_count": 2,
   "metadata": {
    "collapsed": true
   },
   "outputs": [],
   "source": [
    "%matplotlib inline"
   ]
  },
  {
   "cell_type": "markdown",
   "metadata": {},
   "source": [
    "Z tych importów będziemy często korzystać, i pewnie nie zawsze będzie nam się chciało je wszystkie wpisywać. Dlatego czeka Was na wstępie krótkie ćwiczenie:\n",
    "\n",
    "### Ćwiczenie 01\n",
    "* Utwórz w folderze z tym notebookiem plik `importy.py` (upewnij się że **nie jest** to plik `.txt`). Możesz skorzystać np. z edytora tekstowego [Atom](https://atom.io/).\n",
    "* skopiuj do pliku `importy.py` importy pojawiające się w pierwszej komórce tego notebook'a i zapisz `importy.py`\n",
    "* zamień zawartość komórki z importami na:\n",
    "  ```python\n",
    "  from importy import **\n",
    "  ```\n",
    "  znaczy to *z pliku/modułu importy zaimportuj wszystko*\n",
    "* zrestartuj notebook (`kernel --> restart`) i sprawdź czy działają Ci następne trzy komórki:"
   ]
  },
  {
   "cell_type": "code",
   "execution_count": 3,
   "metadata": {},
   "outputs": [
    {
     "name": "stdout",
     "output_type": "stream",
     "text": [
      "\n",
      "macierz losowych wartości:\n",
      " [[0.64300881 0.72878126]\n",
      " [0.31818155 0.75237587]\n",
      " [0.20329988 0.80579484]]\n",
      "\n",
      "średnia z losowych wartości:\n",
      " 0.5752403665016032\n"
     ]
    }
   ],
   "source": [
    "# komórka do testu 1\n",
    "losowe = np.random.random((3, 2))\n",
    "print('\\nmacierz losowych wartości:\\n', losowe)\n",
    "print('\\nśrednia z losowych wartości:\\n', losowe.mean())"
   ]
  },
  {
   "cell_type": "code",
   "execution_count": 4,
   "metadata": {},
   "outputs": [
    {
     "data": {
      "text/plain": [
       "(-0.5, 1.5, 2.5, -0.5)"
      ]
     },
     "execution_count": 4,
     "metadata": {},
     "output_type": "execute_result"
    },
    {
     "data": {
      "image/png": "[encoded data removed]",
      "text/plain": [
       "<matplotlib.figure.Figure at 0x22bdf9f0eb8>"
      ]
     },
     "metadata": {},
     "output_type": "display_data"
    }
   ],
   "source": [
    "# komórka do testu 2\n",
    "plt.imshow(losowe, cmap='inferno')\n",
    "plt.axis('off')"
   ]
  },
  {
   "cell_type": "code",
   "execution_count": 5,
   "metadata": {},
   "outputs": [
    {
     "data": {
      "text/html": [
       "<div>\n",
       "<style scoped>\n",
       "    .dataframe tbody tr th:only-of-type {\n",
       "        vertical-align: middle;\n",
       "    }\n",
       "\n",
       "    .dataframe tbody tr th {\n",
       "        vertical-align: top;\n",
       "    }\n",
       "\n",
       "    .dataframe thead th {\n",
       "        text-align: right;\n",
       "    }\n",
       "</style>\n",
       "<table border=\"1\" class=\"dataframe\">\n",
       "  <thead>\n",
       "    <tr style=\"text-align: right;\">\n",
       "      <th></th>\n",
       "      <th>A</th>\n",
       "      <th>B</th>\n",
       "    </tr>\n",
       "  </thead>\n",
       "  <tbody>\n",
       "    <tr>\n",
       "      <th>0</th>\n",
       "      <td>0.643009</td>\n",
       "      <td>0.728781</td>\n",
       "    </tr>\n",
       "    <tr>\n",
       "      <th>1</th>\n",
       "      <td>0.318182</td>\n",
       "      <td>0.752376</td>\n",
       "    </tr>\n",
       "    <tr>\n",
       "      <th>2</th>\n",
       "      <td>0.203300</td>\n",
       "      <td>0.805795</td>\n",
       "    </tr>\n",
       "  </tbody>\n",
       "</table>\n",
       "</div>"
      ],
      "text/plain": [
       "          A         B\n",
       "0  0.643009  0.728781\n",
       "1  0.318182  0.752376\n",
       "2  0.203300  0.805795"
      ]
     },
     "execution_count": 5,
     "metadata": {},
     "output_type": "execute_result"
    }
   ],
   "source": [
    "# komórka do testu 3\n",
    "df = pd.DataFrame(data=losowe, columns=['A', 'B'])\n",
    "df.head()"
   ]
  },
  {
   "cell_type": "markdown",
   "metadata": {},
   "source": [
    "W ten sposób możecie mieć jeden plik, w którym grupujecie wszystkie często przez Was wykorzystywane importy. Zamiast wpisywania/wklejania tych wszystkich importów importujecie zawartość całego pliku.\n",
    "W przypadku jupyter notebook'a można też zdefiniować aby zawsze na starcie importował pewne pakiety czy wykonywał pewne komendy:\n",
    "https://stackoverflow.com/questions/32211109/automate-standard-jupyter-ipython-notebook-imports?utm_medium=organic&utm_source=google_rich_qa&utm_campaign=google_rich_qa"
   ]
  },
  {
   "cell_type": "markdown",
   "metadata": {},
   "source": [
    "## Titanic\n",
    "Będziemy korzystać z dataset'u `titanic`, który widzieliście na poprzednich zajęciach. Dataset ten jest dostępny w wielu miejscach, ale my skorzystamy z kopii udostępnianej z pakietem `seaborn`:"
   ]
  },
  {
   "cell_type": "code",
   "execution_count": 6,
   "metadata": {},
   "outputs": [
    {
     "name": "stdout",
     "output_type": "stream",
     "text": [
      "wersja seaborn'a:\n",
      " 0.8.1\n"
     ]
    }
   ],
   "source": [
    "import seaborn as sns\n",
    "print(\"wersja seaborn'a:\\n\", sns.__version__)"
   ]
  },
  {
   "cell_type": "code",
   "execution_count": 7,
   "metadata": {},
   "outputs": [
    {
     "name": "stderr",
     "output_type": "stream",
     "text": [
      "C:\\Anaconda3\\lib\\site-packages\\bs4\\__init__.py:166: UserWarning: No parser was explicitly specified, so I'm using the best available HTML parser for this system (\"lxml\"). This usually isn't a problem, but if you run this code on another system, or in a different virtual environment, it may use a different parser and behave differently.\n",
      "\n",
      "To get rid of this warning, change this:\n",
      "\n",
      " BeautifulSoup([your markup])\n",
      "\n",
      "to this:\n",
      "\n",
      " BeautifulSoup([your markup], \"lxml\")\n",
      "\n",
      "  markup_type=markup_type))\n"
     ]
    },
    {
     "name": "stdout",
     "output_type": "stream",
     "text": [
      "['anscombe', 'attention', 'brain_networks', 'car_crashes', 'dots', 'exercise', 'flights', 'fmri', 'gammas', 'iris', 'planets', 'tips', 'titanic']\n"
     ]
    }
   ],
   "source": [
    "# sprawdzamy nazwy datasetów dostępnych w ramach seaborn'a (nie przejmujcie się czerwonym warningiem)\n",
    "nazwy_datasetów = sns.get_dataset_names()\n",
    "print(nazwy_datasetów)"
   ]
  },
  {
   "cell_type": "code",
   "execution_count": 8,
   "metadata": {
    "collapsed": true
   },
   "outputs": [],
   "source": [
    "# widzimy, że datasetów jest trochę, my wczytujemy dataset titanic:\n",
    "titanic = sns.load_dataset('titanic')"
   ]
  },
  {
   "cell_type": "markdown",
   "metadata": {},
   "source": [
    "Dataset jest wczytany w formie DataFrame'u pakietu pandas. Jeżeli mieliście styczność z R'em - nazwa dataframe powinna być Wam znajoma. To format tabeli, w której najczęściej w kolumnach mamy oddzielne zmienne a w wierszach obserwacje. Nauczycie się dzisiaj podstawowych operacji na DataFrame'ach, tak abyście mogli przed dopasowaniem do danych modelu, lepiej je zrozumieć poprzez eksplorację. \n",
    "W zmiennej `titanic` macie teraz taki dataframe. Podstawowa operacja to wyświetlenie pierwszych kilku wierszy z użyciem metody `.head()`. W kolejnej komórce wykonajcie komendę `df.head()` gdzie `df` to nazwa zmiennej, w której znajduje się interesujący Was dataframe:"
   ]
  },
  {
   "cell_type": "code",
   "execution_count": 14,
   "metadata": {
    "collapsed": true
   },
   "outputs": [],
   "source": [
    "# tutaj skorzystaj z metody head\n"
   ]
  },
  {
   "cell_type": "markdown",
   "metadata": {},
   "source": [
    "Metoda head umożliwia podanie jednego argumentu wejściowego - liczby wyświetlanych wierszy. W związku z tym:\n",
    "```python\n",
    "df.head(12)\n",
    "```\n",
    "umożliwia wyświetenie dwunastu pierwszych wierszy dataframe'u `df`.\n",
    "W kolejnej komórce wyświetl 10 pierwszych wierszy naszego dataframe'u."
   ]
  },
  {
   "cell_type": "code",
   "execution_count": 15,
   "metadata": {},
   "outputs": [
    {
     "data": {
      "text/html": [
       "<div>\n",
       "<style scoped>\n",
       "    .dataframe tbody tr th:only-of-type {\n",
       "        vertical-align: middle;\n",
       "    }\n",
       "\n",
       "    .dataframe tbody tr th {\n",
       "        vertical-align: top;\n",
       "    }\n",
       "\n",
       "    .dataframe thead th {\n",
       "        text-align: right;\n",
       "    }\n",
       "</style>\n",
       "<table border=\"1\" class=\"dataframe\">\n",
       "  <thead>\n",
       "    <tr style=\"text-align: right;\">\n",
       "      <th></th>\n",
       "      <th>survived</th>\n",
       "      <th>pclass</th>\n",
       "      <th>sex</th>\n",
       "      <th>age</th>\n",
       "      <th>sibsp</th>\n",
       "      <th>parch</th>\n",
       "      <th>fare</th>\n",
       "      <th>embarked</th>\n",
       "      <th>class</th>\n",
       "      <th>who</th>\n",
       "      <th>adult_male</th>\n",
       "      <th>deck</th>\n",
       "      <th>embark_town</th>\n",
       "      <th>alive</th>\n",
       "      <th>alone</th>\n",
       "    </tr>\n",
       "  </thead>\n",
       "  <tbody>\n",
       "    <tr>\n",
       "      <th>0</th>\n",
       "      <td>0</td>\n",
       "      <td>3</td>\n",
       "      <td>male</td>\n",
       "      <td>22.0</td>\n",
       "      <td>1</td>\n",
       "      <td>0</td>\n",
       "      <td>7.2500</td>\n",
       "      <td>S</td>\n",
       "      <td>Third</td>\n",
       "      <td>man</td>\n",
       "      <td>True</td>\n",
       "      <td>NaN</td>\n",
       "      <td>Southampton</td>\n",
       "      <td>no</td>\n",
       "      <td>False</td>\n",
       "    </tr>\n",
       "    <tr>\n",
       "      <th>1</th>\n",
       "      <td>1</td>\n",
       "      <td>1</td>\n",
       "      <td>female</td>\n",
       "      <td>38.0</td>\n",
       "      <td>1</td>\n",
       "      <td>0</td>\n",
       "      <td>71.2833</td>\n",
       "      <td>C</td>\n",
       "      <td>First</td>\n",
       "      <td>woman</td>\n",
       "      <td>False</td>\n",
       "      <td>C</td>\n",
       "      <td>Cherbourg</td>\n",
       "      <td>yes</td>\n",
       "      <td>False</td>\n",
       "    </tr>\n",
       "    <tr>\n",
       "      <th>2</th>\n",
       "      <td>1</td>\n",
       "      <td>3</td>\n",
       "      <td>female</td>\n",
       "      <td>26.0</td>\n",
       "      <td>0</td>\n",
       "      <td>0</td>\n",
       "      <td>7.9250</td>\n",
       "      <td>S</td>\n",
       "      <td>Third</td>\n",
       "      <td>woman</td>\n",
       "      <td>False</td>\n",
       "      <td>NaN</td>\n",
       "      <td>Southampton</td>\n",
       "      <td>yes</td>\n",
       "      <td>True</td>\n",
       "    </tr>\n",
       "    <tr>\n",
       "      <th>3</th>\n",
       "      <td>1</td>\n",
       "      <td>1</td>\n",
       "      <td>female</td>\n",
       "      <td>35.0</td>\n",
       "      <td>1</td>\n",
       "      <td>0</td>\n",
       "      <td>53.1000</td>\n",
       "      <td>S</td>\n",
       "      <td>First</td>\n",
       "      <td>woman</td>\n",
       "      <td>False</td>\n",
       "      <td>C</td>\n",
       "      <td>Southampton</td>\n",
       "      <td>yes</td>\n",
       "      <td>False</td>\n",
       "    </tr>\n",
       "    <tr>\n",
       "      <th>4</th>\n",
       "      <td>0</td>\n",
       "      <td>3</td>\n",
       "      <td>male</td>\n",
       "      <td>35.0</td>\n",
       "      <td>0</td>\n",
       "      <td>0</td>\n",
       "      <td>8.0500</td>\n",
       "      <td>S</td>\n",
       "      <td>Third</td>\n",
       "      <td>man</td>\n",
       "      <td>True</td>\n",
       "      <td>NaN</td>\n",
       "      <td>Southampton</td>\n",
       "      <td>no</td>\n",
       "      <td>True</td>\n",
       "    </tr>\n",
       "    <tr>\n",
       "      <th>5</th>\n",
       "      <td>0</td>\n",
       "      <td>3</td>\n",
       "      <td>male</td>\n",
       "      <td>NaN</td>\n",
       "      <td>0</td>\n",
       "      <td>0</td>\n",
       "      <td>8.4583</td>\n",
       "      <td>Q</td>\n",
       "      <td>Third</td>\n",
       "      <td>man</td>\n",
       "      <td>True</td>\n",
       "      <td>NaN</td>\n",
       "      <td>Queenstown</td>\n",
       "      <td>no</td>\n",
       "      <td>True</td>\n",
       "    </tr>\n",
       "    <tr>\n",
       "      <th>6</th>\n",
       "      <td>0</td>\n",
       "      <td>1</td>\n",
       "      <td>male</td>\n",
       "      <td>54.0</td>\n",
       "      <td>0</td>\n",
       "      <td>0</td>\n",
       "      <td>51.8625</td>\n",
       "      <td>S</td>\n",
       "      <td>First</td>\n",
       "      <td>man</td>\n",
       "      <td>True</td>\n",
       "      <td>E</td>\n",
       "      <td>Southampton</td>\n",
       "      <td>no</td>\n",
       "      <td>True</td>\n",
       "    </tr>\n",
       "    <tr>\n",
       "      <th>7</th>\n",
       "      <td>0</td>\n",
       "      <td>3</td>\n",
       "      <td>male</td>\n",
       "      <td>2.0</td>\n",
       "      <td>3</td>\n",
       "      <td>1</td>\n",
       "      <td>21.0750</td>\n",
       "      <td>S</td>\n",
       "      <td>Third</td>\n",
       "      <td>child</td>\n",
       "      <td>False</td>\n",
       "      <td>NaN</td>\n",
       "      <td>Southampton</td>\n",
       "      <td>no</td>\n",
       "      <td>False</td>\n",
       "    </tr>\n",
       "    <tr>\n",
       "      <th>8</th>\n",
       "      <td>1</td>\n",
       "      <td>3</td>\n",
       "      <td>female</td>\n",
       "      <td>27.0</td>\n",
       "      <td>0</td>\n",
       "      <td>2</td>\n",
       "      <td>11.1333</td>\n",
       "      <td>S</td>\n",
       "      <td>Third</td>\n",
       "      <td>woman</td>\n",
       "      <td>False</td>\n",
       "      <td>NaN</td>\n",
       "      <td>Southampton</td>\n",
       "      <td>yes</td>\n",
       "      <td>False</td>\n",
       "    </tr>\n",
       "    <tr>\n",
       "      <th>9</th>\n",
       "      <td>1</td>\n",
       "      <td>2</td>\n",
       "      <td>female</td>\n",
       "      <td>14.0</td>\n",
       "      <td>1</td>\n",
       "      <td>0</td>\n",
       "      <td>30.0708</td>\n",
       "      <td>C</td>\n",
       "      <td>Second</td>\n",
       "      <td>child</td>\n",
       "      <td>False</td>\n",
       "      <td>NaN</td>\n",
       "      <td>Cherbourg</td>\n",
       "      <td>yes</td>\n",
       "      <td>False</td>\n",
       "    </tr>\n",
       "  </tbody>\n",
       "</table>\n",
       "</div>"
      ],
      "text/plain": [
       "   survived  pclass     sex   age  sibsp  parch     fare embarked   class  \\\n",
       "0         0       3    male  22.0      1      0   7.2500        S   Third   \n",
       "1         1       1  female  38.0      1      0  71.2833        C   First   \n",
       "2         1       3  female  26.0      0      0   7.9250        S   Third   \n",
       "3         1       1  female  35.0      1      0  53.1000        S   First   \n",
       "4         0       3    male  35.0      0      0   8.0500        S   Third   \n",
       "5         0       3    male   NaN      0      0   8.4583        Q   Third   \n",
       "6         0       1    male  54.0      0      0  51.8625        S   First   \n",
       "7         0       3    male   2.0      3      1  21.0750        S   Third   \n",
       "8         1       3  female  27.0      0      2  11.1333        S   Third   \n",
       "9         1       2  female  14.0      1      0  30.0708        C  Second   \n",
       "\n",
       "     who  adult_male deck  embark_town alive  alone  \n",
       "0    man        True  NaN  Southampton    no  False  \n",
       "1  woman       False    C    Cherbourg   yes  False  \n",
       "2  woman       False  NaN  Southampton   yes   True  \n",
       "3  woman       False    C  Southampton   yes  False  \n",
       "4    man        True  NaN  Southampton    no   True  \n",
       "5    man        True  NaN   Queenstown    no   True  \n",
       "6    man        True    E  Southampton    no   True  \n",
       "7  child       False  NaN  Southampton    no  False  \n",
       "8  woman       False  NaN  Southampton   yes  False  \n",
       "9  child       False  NaN    Cherbourg   yes  False  "
      ]
     },
     "execution_count": 15,
     "metadata": {},
     "output_type": "execute_result"
    }
   ],
   "source": [
    "# tutaj wyświetl 10 pierwszych wierszy naszego dataset'u"
   ]
  },
  {
   "cell_type": "markdown",
   "metadata": {},
   "source": [
    "Dataframe ma też atrybut `.columns`, w którym są nazwy wszystkich kolumn:"
   ]
  },
  {
   "cell_type": "code",
   "execution_count": 9,
   "metadata": {},
   "outputs": [
    {
     "data": {
      "text/plain": [
       "Index(['survived', 'pclass', 'sex', 'age', 'sibsp', 'parch', 'fare',\n",
       "       'embarked', 'class', 'who', 'adult_male', 'deck', 'embark_town',\n",
       "       'alive', 'alone'],\n",
       "      dtype='object')"
      ]
     },
     "execution_count": 9,
     "metadata": {},
     "output_type": "execute_result"
    }
   ],
   "source": [
    "titanic.columns"
   ]
  },
  {
   "cell_type": "markdown",
   "metadata": {},
   "source": [
    "Podobnie do macierzy numpy, dataframe'y umożliwiają sprawdzenie rozmiaru za pomocą metody `.shape`:"
   ]
  },
  {
   "cell_type": "code",
   "execution_count": 19,
   "metadata": {},
   "outputs": [
    {
     "data": {
      "text/plain": [
       "(891, 15)"
      ]
     },
     "execution_count": 19,
     "metadata": {},
     "output_type": "execute_result"
    }
   ],
   "source": [
    "titanic.shape"
   ]
  },
  {
   "cell_type": "markdown",
   "metadata": {},
   "source": [
    "Uzupełnij poniższe zdanie:\n",
    "```\n",
    "Dowiadujemy się że dataframe ma ........... kolumn oraz ................ wierszy.\n",
    "```"
   ]
  },
  {
   "cell_type": "markdown",
   "metadata": {},
   "source": [
    "Dataframe pozwala również rysować podstawowe informacje dotyczące danych, które zawiera. Narysujemy sobie na przykład boxplot przedstawiający wiek (`age`) w podziale na klasy (`class`):"
   ]
  },
  {
   "cell_type": "code",
   "execution_count": 10,
   "metadata": {},
   "outputs": [
    {
     "data": {
      "text/plain": [
       "<matplotlib.axes._subplots.AxesSubplot at 0x22be3f35390>"
      ]
     },
     "execution_count": 10,
     "metadata": {},
     "output_type": "execute_result"
    },
    {
     "data": {
      "image/png": "[encoded data removed]",
      "text/plain": [
       "<matplotlib.figure.Figure at 0x22be3f1db38>"
      ]
     },
     "metadata": {},
     "output_type": "display_data"
    }
   ],
   "source": [
    "titanic.boxplot('age', by='class')"
   ]
  },
  {
   "cell_type": "markdown",
   "metadata": {},
   "source": [
    "Podobne wykresy możemy robić z wykorzystaniem pakietu seaborn (zwróćcie uwagę na dosyć podobną składnię):"
   ]
  },
  {
   "cell_type": "code",
   "execution_count": 11,
   "metadata": {},
   "outputs": [
    {
     "data": {
      "text/plain": [
       "<matplotlib.axes._subplots.AxesSubplot at 0x22be3f58ef0>"
      ]
     },
     "execution_count": 11,
     "metadata": {},
     "output_type": "execute_result"
    },
    {
     "data": {
      "image/png": "[encoded data removed]",
      "text/plain": [
       "<matplotlib.figure.Figure at 0x22be3e9b6d8>"
      ]
     },
     "metadata": {},
     "output_type": "display_data"
    }
   ],
   "source": [
    "sns.boxplot('class', 'age', data=titanic)"
   ]
  },
  {
   "cell_type": "markdown",
   "metadata": {},
   "source": [
    "Seaborn umożliwia też zmianę stylu wykresu (`set_style`) oraz używanej palety kolorystycznej (`set_palette`), zobaczcie poniżej:"
   ]
  },
  {
   "cell_type": "code",
   "execution_count": 12,
   "metadata": {},
   "outputs": [],
   "source": [
    "sns.set_style('darkgrid')\n",
    "sns.set_palette('deep')"
   ]
  },
  {
   "cell_type": "markdown",
   "metadata": {},
   "source": [
    "Teraz przekopiujcie poniżej kod obu wykresów boxplotowych (pierwszy bezpośrednio z dataframe'u, drugi z użyciem seaborna). Zobaczycie, że styl wykresów będzie teraz inny:"
   ]
  },
  {
   "cell_type": "code",
   "execution_count": null,
   "metadata": {
    "collapsed": true
   },
   "outputs": [],
   "source": [
    "# tutaj pierwszy wykres"
   ]
  },
  {
   "cell_type": "code",
   "execution_count": null,
   "metadata": {
    "collapsed": true
   },
   "outputs": [],
   "source": [
    "# tutaj drugi wykres"
   ]
  },
  {
   "cell_type": "markdown",
   "metadata": {},
   "source": [
    "Możemy też, korzystając z metody `.loc[]` wybierać interesujące nas kolumny i wiersze:"
   ]
  },
  {
   "cell_type": "code",
   "execution_count": 13,
   "metadata": {},
   "outputs": [
    {
     "data": {
      "text/html": [
       "<div>\n",
       "<style scoped>\n",
       "    .dataframe tbody tr th:only-of-type {\n",
       "        vertical-align: middle;\n",
       "    }\n",
       "\n",
       "    .dataframe tbody tr th {\n",
       "        vertical-align: top;\n",
       "    }\n",
       "\n",
       "    .dataframe thead th {\n",
       "        text-align: right;\n",
       "    }\n",
       "</style>\n",
       "<table border=\"1\" class=\"dataframe\">\n",
       "  <thead>\n",
       "    <tr style=\"text-align: right;\">\n",
       "      <th></th>\n",
       "      <th>sex</th>\n",
       "      <th>age</th>\n",
       "      <th>sibsp</th>\n",
       "      <th>parch</th>\n",
       "      <th>fare</th>\n",
       "      <th>embarked</th>\n",
       "      <th>class</th>\n",
       "    </tr>\n",
       "  </thead>\n",
       "  <tbody>\n",
       "    <tr>\n",
       "      <th>0</th>\n",
       "      <td>male</td>\n",
       "      <td>22.0</td>\n",
       "      <td>1</td>\n",
       "      <td>0</td>\n",
       "      <td>7.2500</td>\n",
       "      <td>S</td>\n",
       "      <td>Third</td>\n",
       "    </tr>\n",
       "    <tr>\n",
       "      <th>1</th>\n",
       "      <td>female</td>\n",
       "      <td>38.0</td>\n",
       "      <td>1</td>\n",
       "      <td>0</td>\n",
       "      <td>71.2833</td>\n",
       "      <td>C</td>\n",
       "      <td>First</td>\n",
       "    </tr>\n",
       "    <tr>\n",
       "      <th>2</th>\n",
       "      <td>female</td>\n",
       "      <td>26.0</td>\n",
       "      <td>0</td>\n",
       "      <td>0</td>\n",
       "      <td>7.9250</td>\n",
       "      <td>S</td>\n",
       "      <td>Third</td>\n",
       "    </tr>\n",
       "    <tr>\n",
       "      <th>3</th>\n",
       "      <td>female</td>\n",
       "      <td>35.0</td>\n",
       "      <td>1</td>\n",
       "      <td>0</td>\n",
       "      <td>53.1000</td>\n",
       "      <td>S</td>\n",
       "      <td>First</td>\n",
       "    </tr>\n",
       "    <tr>\n",
       "      <th>4</th>\n",
       "      <td>male</td>\n",
       "      <td>35.0</td>\n",
       "      <td>0</td>\n",
       "      <td>0</td>\n",
       "      <td>8.0500</td>\n",
       "      <td>S</td>\n",
       "      <td>Third</td>\n",
       "    </tr>\n",
       "    <tr>\n",
       "      <th>5</th>\n",
       "      <td>male</td>\n",
       "      <td>NaN</td>\n",
       "      <td>0</td>\n",
       "      <td>0</td>\n",
       "      <td>8.4583</td>\n",
       "      <td>Q</td>\n",
       "      <td>Third</td>\n",
       "    </tr>\n",
       "    <tr>\n",
       "      <th>6</th>\n",
       "      <td>male</td>\n",
       "      <td>54.0</td>\n",
       "      <td>0</td>\n",
       "      <td>0</td>\n",
       "      <td>51.8625</td>\n",
       "      <td>S</td>\n",
       "      <td>First</td>\n",
       "    </tr>\n",
       "  </tbody>\n",
       "</table>\n",
       "</div>"
      ],
      "text/plain": [
       "      sex   age  sibsp  parch     fare embarked  class\n",
       "0    male  22.0      1      0   7.2500        S  Third\n",
       "1  female  38.0      1      0  71.2833        C  First\n",
       "2  female  26.0      0      0   7.9250        S  Third\n",
       "3  female  35.0      1      0  53.1000        S  First\n",
       "4    male  35.0      0      0   8.0500        S  Third\n",
       "5    male   NaN      0      0   8.4583        Q  Third\n",
       "6    male  54.0      0      0  51.8625        S  First"
      ]
     },
     "execution_count": 13,
     "metadata": {},
     "output_type": "execute_result"
    }
   ],
   "source": [
    "titanic.loc[:6, 'sex':'class']"
   ]
  },
  {
   "cell_type": "markdown",
   "metadata": {},
   "source": [
    "Poniżej wybierz w podobny sposób z dataframe'u wiersze od 10 do 18 (zauważ że w trybie `loc` indeksowanie wierszy jest nie-pythonowe tzn. wlicza ostatni element zakresu) i kolumny od `'fare'` do `'deck'`:"
   ]
  },
  {
   "cell_type": "code",
   "execution_count": null,
   "metadata": {
    "collapsed": true
   },
   "outputs": [],
   "source": [
    "# tutaj wybierz odpowiednie wiersze i kolumny"
   ]
  },
  {
   "cell_type": "markdown",
   "metadata": {},
   "source": [
    "Gdy chcesz wybrać wszystkie kolumny możesz jako drugi argument w `loc` podać dwukropek:"
   ]
  },
  {
   "cell_type": "code",
   "execution_count": 14,
   "metadata": {},
   "outputs": [
    {
     "data": {
      "text/html": [
       "<div>\n",
       "<style scoped>\n",
       "    .dataframe tbody tr th:only-of-type {\n",
       "        vertical-align: middle;\n",
       "    }\n",
       "\n",
       "    .dataframe tbody tr th {\n",
       "        vertical-align: top;\n",
       "    }\n",
       "\n",
       "    .dataframe thead th {\n",
       "        text-align: right;\n",
       "    }\n",
       "</style>\n",
       "<table border=\"1\" class=\"dataframe\">\n",
       "  <thead>\n",
       "    <tr style=\"text-align: right;\">\n",
       "      <th></th>\n",
       "      <th>survived</th>\n",
       "      <th>pclass</th>\n",
       "      <th>sex</th>\n",
       "      <th>age</th>\n",
       "      <th>sibsp</th>\n",
       "      <th>parch</th>\n",
       "      <th>fare</th>\n",
       "      <th>embarked</th>\n",
       "      <th>class</th>\n",
       "      <th>who</th>\n",
       "      <th>adult_male</th>\n",
       "      <th>deck</th>\n",
       "      <th>embark_town</th>\n",
       "      <th>alive</th>\n",
       "      <th>alone</th>\n",
       "    </tr>\n",
       "  </thead>\n",
       "  <tbody>\n",
       "    <tr>\n",
       "      <th>111</th>\n",
       "      <td>0</td>\n",
       "      <td>3</td>\n",
       "      <td>female</td>\n",
       "      <td>14.5</td>\n",
       "      <td>1</td>\n",
       "      <td>0</td>\n",
       "      <td>14.4542</td>\n",
       "      <td>C</td>\n",
       "      <td>Third</td>\n",
       "      <td>child</td>\n",
       "      <td>False</td>\n",
       "      <td>NaN</td>\n",
       "      <td>Cherbourg</td>\n",
       "      <td>no</td>\n",
       "      <td>False</td>\n",
       "    </tr>\n",
       "    <tr>\n",
       "      <th>112</th>\n",
       "      <td>0</td>\n",
       "      <td>3</td>\n",
       "      <td>male</td>\n",
       "      <td>22.0</td>\n",
       "      <td>0</td>\n",
       "      <td>0</td>\n",
       "      <td>8.0500</td>\n",
       "      <td>S</td>\n",
       "      <td>Third</td>\n",
       "      <td>man</td>\n",
       "      <td>True</td>\n",
       "      <td>NaN</td>\n",
       "      <td>Southampton</td>\n",
       "      <td>no</td>\n",
       "      <td>True</td>\n",
       "    </tr>\n",
       "    <tr>\n",
       "      <th>113</th>\n",
       "      <td>0</td>\n",
       "      <td>3</td>\n",
       "      <td>female</td>\n",
       "      <td>20.0</td>\n",
       "      <td>1</td>\n",
       "      <td>0</td>\n",
       "      <td>9.8250</td>\n",
       "      <td>S</td>\n",
       "      <td>Third</td>\n",
       "      <td>woman</td>\n",
       "      <td>False</td>\n",
       "      <td>NaN</td>\n",
       "      <td>Southampton</td>\n",
       "      <td>no</td>\n",
       "      <td>False</td>\n",
       "    </tr>\n",
       "  </tbody>\n",
       "</table>\n",
       "</div>"
      ],
      "text/plain": [
       "     survived  pclass     sex   age  sibsp  parch     fare embarked  class  \\\n",
       "111         0       3  female  14.5      1      0  14.4542        C  Third   \n",
       "112         0       3    male  22.0      0      0   8.0500        S  Third   \n",
       "113         0       3  female  20.0      1      0   9.8250        S  Third   \n",
       "\n",
       "       who  adult_male deck  embark_town alive  alone  \n",
       "111  child       False  NaN    Cherbourg    no  False  \n",
       "112    man        True  NaN  Southampton    no   True  \n",
       "113  woman       False  NaN  Southampton    no  False  "
      ]
     },
     "execution_count": 14,
     "metadata": {},
     "output_type": "execute_result"
    }
   ],
   "source": [
    "titanic.loc[111:113, :]"
   ]
  },
  {
   "cell_type": "markdown",
   "metadata": {},
   "source": [
    "Możemy też w zakresie kolumn (drugi argument w `loc`) nie podawać ostatniej kolumny, wtedy zostaną wybrane kolumny od podanej przez nas do ostatniej:"
   ]
  },
  {
   "cell_type": "code",
   "execution_count": 15,
   "metadata": {},
   "outputs": [
    {
     "data": {
      "text/html": [
       "<div>\n",
       "<style scoped>\n",
       "    .dataframe tbody tr th:only-of-type {\n",
       "        vertical-align: middle;\n",
       "    }\n",
       "\n",
       "    .dataframe tbody tr th {\n",
       "        vertical-align: top;\n",
       "    }\n",
       "\n",
       "    .dataframe thead th {\n",
       "        text-align: right;\n",
       "    }\n",
       "</style>\n",
       "<table border=\"1\" class=\"dataframe\">\n",
       "  <thead>\n",
       "    <tr style=\"text-align: right;\">\n",
       "      <th></th>\n",
       "      <th>who</th>\n",
       "      <th>adult_male</th>\n",
       "      <th>deck</th>\n",
       "      <th>embark_town</th>\n",
       "      <th>alive</th>\n",
       "      <th>alone</th>\n",
       "    </tr>\n",
       "  </thead>\n",
       "  <tbody>\n",
       "    <tr>\n",
       "      <th>111</th>\n",
       "      <td>child</td>\n",
       "      <td>False</td>\n",
       "      <td>NaN</td>\n",
       "      <td>Cherbourg</td>\n",
       "      <td>no</td>\n",
       "      <td>False</td>\n",
       "    </tr>\n",
       "    <tr>\n",
       "      <th>112</th>\n",
       "      <td>man</td>\n",
       "      <td>True</td>\n",
       "      <td>NaN</td>\n",
       "      <td>Southampton</td>\n",
       "      <td>no</td>\n",
       "      <td>True</td>\n",
       "    </tr>\n",
       "    <tr>\n",
       "      <th>113</th>\n",
       "      <td>woman</td>\n",
       "      <td>False</td>\n",
       "      <td>NaN</td>\n",
       "      <td>Southampton</td>\n",
       "      <td>no</td>\n",
       "      <td>False</td>\n",
       "    </tr>\n",
       "  </tbody>\n",
       "</table>\n",
       "</div>"
      ],
      "text/plain": [
       "       who  adult_male deck  embark_town alive  alone\n",
       "111  child       False  NaN    Cherbourg    no  False\n",
       "112    man        True  NaN  Southampton    no   True\n",
       "113  woman       False  NaN  Southampton    no  False"
      ]
     },
     "execution_count": 15,
     "metadata": {},
     "output_type": "execute_result"
    }
   ],
   "source": [
    "titanic.loc[111:113, 'who':]"
   ]
  },
  {
   "cell_type": "markdown",
   "metadata": {},
   "source": [
    "W przypadku tego datasetu interesować nas będzie czy pasażer przeżył niefortunny rejs statku.\n",
    "Informację tę znajdziemy z kolumnie `survived`. Możemy dostać się do kolumny dataframe'u (oprócz metody `loc`) w ten prosty sposób:"
   ]
  },
  {
   "cell_type": "code",
   "execution_count": 16,
   "metadata": {},
   "outputs": [
    {
     "data": {
      "text/plain": [
       "0    0\n",
       "1    1\n",
       "2    1\n",
       "3    1\n",
       "4    0\n",
       "Name: survived, dtype: int64"
      ]
     },
     "execution_count": 16,
     "metadata": {},
     "output_type": "execute_result"
    }
   ],
   "source": [
    "# wyświetlamy infromację o przeżyciu pierwszych 5 osób\n",
    "titanic.survived[:5]"
   ]
  },
  {
   "cell_type": "markdown",
   "metadata": {},
   "source": [
    "Zauważcie, że dostajemy kolumnę **wraz z etykietami wierszy**. Dodatkowo korzystaliśmy z normalnego pythonowego indeksowania, więc dostaliśmy pierwszych 5 wierszy niezależnie od ich etykiet (swoją drogą - etykiety wierszy mogą w pandas nie być liczbami a np literami czy słowami, jest duża dowolność).\n",
    "W sytuacji gdy chcemy dostać nie kolumne typu `pandas` z etykietami wierszy ale sam wektor numpy, możemy dostać się do atrybutu `.values`:"
   ]
  },
  {
   "cell_type": "code",
   "execution_count": 17,
   "metadata": {},
   "outputs": [
    {
     "data": {
      "text/plain": [
       "array([0, 1, 1, 1, 0], dtype=int64)"
      ]
     },
     "execution_count": 17,
     "metadata": {},
     "output_type": "execute_result"
    }
   ],
   "source": [
    "titanic.survived[:5].values"
   ]
  },
  {
   "cell_type": "markdown",
   "metadata": {},
   "source": [
    "Kolumny (ale nawet całe dataframe'y) obsługują różne operacje matematyczne takie jak np. średnia. Gdy chcemy się dowiedzieć ile osób procentowo przeżyło rejs statkiem, możemy dostać się do kolumny `survived` a następnie zrobić z niej średnią (metoda `.mean()`):"
   ]
  },
  {
   "cell_type": "code",
   "execution_count": 18,
   "metadata": {},
   "outputs": [
    {
     "data": {
      "text/plain": [
       "0.3838383838383838"
      ]
     },
     "execution_count": 18,
     "metadata": {},
     "output_type": "execute_result"
    }
   ],
   "source": [
    "titanic.survived.mean()"
   ]
  },
  {
   "cell_type": "markdown",
   "metadata": {},
   "source": [
    "Niestety mniej więcej tylko trzy ósme pasażerów przeżyło podróż.  \n",
    "Co zdeterminowało o przeżyciu bądź śmierci poszczególnych pasażerów? Płeć, wiek, cena biletu, klasa, podróżowanie z innymi osobami? Na te pytania spróbujemy odpowiedzieć na dzisiejszych zajęciach korzystając z regresji logistycznej - modelu o którym mówiliśmy na ostatnich zajęciach."
   ]
  },
  {
   "cell_type": "markdown",
   "metadata": {},
   "source": [
    "## Ćwiczenia\n",
    "Zanim jednak przejdziemy do eksploracji danych, kilka ćwiczeń dla Ciebie:\n",
    "1. sprawdź średni wiek (`age`) pasażerów\n",
    "2. sprawdź jaki procent pierwszych 100 pasażerów przeżył podróż\n",
    "3. skorzystaj z metody `.unique()` na kolumnie `titanic.who` aby poznać unikatowe (niepowtarzające się) wartości tej kolumny\n",
    "4. narysuj histogram cen biletów korzystąc z metody `.hist()` odpowiedniej kolumny\n",
    "5. metoda `.hist()` przyjmuje wiele dodatkowych argumentów, skorzystaj z argumentu nazwowego `bins` aby narysować ten sam histogram co w punkcie 4, ale składający się z 35 binów."
   ]
  },
  {
   "cell_type": "markdown",
   "metadata": {},
   "source": [
    "Interesuje nas ile osób przeżyło w zależności od klasy, ale w pierwszej kolejności zobaczmy ilu pasażerów podróżowało w każdej z klas. Skorzystamy do tego z funkcji `countplot` pakietu `seaborn`:"
   ]
  },
  {
   "cell_type": "code",
   "execution_count": 20,
   "metadata": {},
   "outputs": [
    {
     "data": {
      "text/plain": [
       "<matplotlib.axes._subplots.AxesSubplot at 0x22be3f92e10>"
      ]
     },
     "execution_count": 20,
     "metadata": {},
     "output_type": "execute_result"
    },
    {
     "data": {
      "image/png": "[encoded data removed]",
      "text/plain": [
       "<matplotlib.figure.Figure at 0x22be3f5eef0>"
      ]
     },
     "metadata": {},
     "output_type": "display_data"
    }
   ],
   "source": [
    "sns.countplot('class', data=titanic)"
   ]
  },
  {
   "cell_type": "markdown",
   "metadata": {},
   "source": [
    "Widzimy, że najwięcej osób podróżowało w klasie trzeciej. Zobaczmy teraz ile osób przeżyło (kolumna `survived`) w podziale na klasy (kolumna `class`). Skorzystamy z tej samej funkcji, co powyżej, ale tym razem pierwszym argumentem będzie nazwa kolumny opisującej przeżycie. Dodatkowo skorzystamy z argumentu nazwowego `hue` i podamy w nim nazwę kolumny w podziale na którą chcemy zobaczyć wykres (chcemy zobaczyć przeżycie w podziale kolorami na klasy). W efekcie po jednej stronie wykresu będziemy mieli osoby, które przeżyły podróż, a po drugiej te, które zginęł, a każda z tych kategorii będzie podzielona na kolorowe słupki reprezentujące klasę.  \n",
    "W razie problemów śmiało pytaj prowadzącego o popowiedź."
   ]
  },
  {
   "cell_type": "code",
   "execution_count": null,
   "metadata": {
    "collapsed": true
   },
   "outputs": [],
   "source": [
    "# tutaj wykres"
   ]
  },
  {
   "cell_type": "markdown",
   "metadata": {},
   "source": [
    "Teraz zamień miejscami nazwy kolumn (tę która jest pierwszym argumentem `sns.countplot` oraz tę którą podajesz w argumencie nazwowym `hue`) tzn. stwórz wykres ilości osób w różnych klasach w podziale kolorystycznym na przeżycie. Zwróć uwagę na różnice względem poprzedniego wykresu. Który Twoim zdaniem jest czytelniejszy i dlaczego?"
   ]
  },
  {
   "cell_type": "code",
   "execution_count": null,
   "metadata": {
    "collapsed": true
   },
   "outputs": [],
   "source": [
    "# tutaj wykres"
   ]
  },
  {
   "cell_type": "markdown",
   "metadata": {},
   "source": [
    "Chcemy jednak zobaczyć przeżycie w ujęciu procentowym dla każdej z klas. Najpierw spróbujemy wyselekcjonować oddzielnie\n",
    "pasażerów pierwszej i trzeciej klasy i zobaczyć ile % z nich przeżyło. Do selekcji danych bardzo przydaje się metoda\n",
    "`.query()` - pozwala ona podać warunek selekcji jako napis i zwraca dane spełniające ten warunek. Przykładowo, jeżeli chcemy stworzyć\n",
    "oddzielny dataframe zawierający informację tylko na temat pasażerów, którzy skończyli 60 i więcej lat, zrobilibyśmy to tak:\n",
    "```python\n",
    "older_titanic = titanic.query('age > 60')\n",
    "```\n",
    "W podobny sposób wybierzemy pasażerów należących do danej klasy. Skorzystamy do tego z kolumny `pclass` opisującej numer klasy\n",
    "(tzn. zawierający wartość liczbową odpowiadającą tekstowemu opisowi w kolumnie `class`):"
   ]
  },
  {
   "cell_type": "code",
   "execution_count": 28,
   "metadata": {},
   "outputs": [],
   "source": [
    "df_first = titanic.query('pclass == 1')\n",
    "df_third = titanic.query('pclass == 3')"
   ]
  },
  {
   "cell_type": "code",
   "execution_count": 29,
   "metadata": {},
   "outputs": [
    {
     "data": {
      "text/html": [
       "<div>\n",
       "<style scoped>\n",
       "    .dataframe tbody tr th:only-of-type {\n",
       "        vertical-align: middle;\n",
       "    }\n",
       "\n",
       "    .dataframe tbody tr th {\n",
       "        vertical-align: top;\n",
       "    }\n",
       "\n",
       "    .dataframe thead th {\n",
       "        text-align: right;\n",
       "    }\n",
       "</style>\n",
       "<table border=\"1\" class=\"dataframe\">\n",
       "  <thead>\n",
       "    <tr style=\"text-align: right;\">\n",
       "      <th></th>\n",
       "      <th>survived</th>\n",
       "      <th>pclass</th>\n",
       "      <th>sex</th>\n",
       "      <th>age</th>\n",
       "      <th>sibsp</th>\n",
       "      <th>parch</th>\n",
       "      <th>fare</th>\n",
       "      <th>embarked</th>\n",
       "      <th>class</th>\n",
       "      <th>who</th>\n",
       "      <th>adult_male</th>\n",
       "      <th>deck</th>\n",
       "      <th>embark_town</th>\n",
       "      <th>alive</th>\n",
       "      <th>alone</th>\n",
       "    </tr>\n",
       "  </thead>\n",
       "  <tbody>\n",
       "    <tr>\n",
       "      <th>1</th>\n",
       "      <td>1</td>\n",
       "      <td>1</td>\n",
       "      <td>female</td>\n",
       "      <td>38.0</td>\n",
       "      <td>1</td>\n",
       "      <td>0</td>\n",
       "      <td>71.2833</td>\n",
       "      <td>C</td>\n",
       "      <td>First</td>\n",
       "      <td>woman</td>\n",
       "      <td>False</td>\n",
       "      <td>C</td>\n",
       "      <td>Cherbourg</td>\n",
       "      <td>yes</td>\n",
       "      <td>False</td>\n",
       "    </tr>\n",
       "    <tr>\n",
       "      <th>3</th>\n",
       "      <td>1</td>\n",
       "      <td>1</td>\n",
       "      <td>female</td>\n",
       "      <td>35.0</td>\n",
       "      <td>1</td>\n",
       "      <td>0</td>\n",
       "      <td>53.1000</td>\n",
       "      <td>S</td>\n",
       "      <td>First</td>\n",
       "      <td>woman</td>\n",
       "      <td>False</td>\n",
       "      <td>C</td>\n",
       "      <td>Southampton</td>\n",
       "      <td>yes</td>\n",
       "      <td>False</td>\n",
       "    </tr>\n",
       "    <tr>\n",
       "      <th>6</th>\n",
       "      <td>0</td>\n",
       "      <td>1</td>\n",
       "      <td>male</td>\n",
       "      <td>54.0</td>\n",
       "      <td>0</td>\n",
       "      <td>0</td>\n",
       "      <td>51.8625</td>\n",
       "      <td>S</td>\n",
       "      <td>First</td>\n",
       "      <td>man</td>\n",
       "      <td>True</td>\n",
       "      <td>E</td>\n",
       "      <td>Southampton</td>\n",
       "      <td>no</td>\n",
       "      <td>True</td>\n",
       "    </tr>\n",
       "    <tr>\n",
       "      <th>11</th>\n",
       "      <td>1</td>\n",
       "      <td>1</td>\n",
       "      <td>female</td>\n",
       "      <td>58.0</td>\n",
       "      <td>0</td>\n",
       "      <td>0</td>\n",
       "      <td>26.5500</td>\n",
       "      <td>S</td>\n",
       "      <td>First</td>\n",
       "      <td>woman</td>\n",
       "      <td>False</td>\n",
       "      <td>C</td>\n",
       "      <td>Southampton</td>\n",
       "      <td>yes</td>\n",
       "      <td>True</td>\n",
       "    </tr>\n",
       "    <tr>\n",
       "      <th>23</th>\n",
       "      <td>1</td>\n",
       "      <td>1</td>\n",
       "      <td>male</td>\n",
       "      <td>28.0</td>\n",
       "      <td>0</td>\n",
       "      <td>0</td>\n",
       "      <td>35.5000</td>\n",
       "      <td>S</td>\n",
       "      <td>First</td>\n",
       "      <td>man</td>\n",
       "      <td>True</td>\n",
       "      <td>A</td>\n",
       "      <td>Southampton</td>\n",
       "      <td>yes</td>\n",
       "      <td>True</td>\n",
       "    </tr>\n",
       "  </tbody>\n",
       "</table>\n",
       "</div>"
      ],
      "text/plain": [
       "    survived  pclass     sex   age  sibsp  parch     fare embarked  class  \\\n",
       "1          1       1  female  38.0      1      0  71.2833        C  First   \n",
       "3          1       1  female  35.0      1      0  53.1000        S  First   \n",
       "6          0       1    male  54.0      0      0  51.8625        S  First   \n",
       "11         1       1  female  58.0      0      0  26.5500        S  First   \n",
       "23         1       1    male  28.0      0      0  35.5000        S  First   \n",
       "\n",
       "      who  adult_male deck  embark_town alive  alone  \n",
       "1   woman       False    C    Cherbourg   yes  False  \n",
       "3   woman       False    C  Southampton   yes  False  \n",
       "6     man        True    E  Southampton    no   True  \n",
       "11  woman       False    C  Southampton   yes   True  \n",
       "23    man        True    A  Southampton   yes   True  "
      ]
     },
     "execution_count": 29,
     "metadata": {},
     "output_type": "execute_result"
    }
   ],
   "source": [
    "df_first.head()"
   ]
  },
  {
   "cell_type": "markdown",
   "metadata": {},
   "source": [
    "Aby teraz dowiedzieć się jaka część pasażerów pierwszej klasy przeżyła podróż, wystarczy że wykonamy operację średniej na kolumnie `survived` dataframe'u `df_first`. Analogicznie dla pasażerów trzeciej klasy.\n",
    "Wykonaj te operację dla jednego i drugiego dataframe'u (zawierającego jedną wybraną klasę) i porównaj jaki procent pasażerów przeżył w zależności od klasy."
   ]
  },
  {
   "cell_type": "markdown",
   "metadata": {},
   "source": [
    "Pandas umożliwia też wykonanie tego porównania prościej korzystając z metody `groupby`, która pozwala podzielenie dataframe'u z uwzględnieniem danej kategorii. Gdy chcemy podzielić dataframe pod względem klasy napiszemy `titanic.groupby('class')`. Następnie gdy dostaniemy się do kolumny `survived` i wykonamy na niej średnią zobaczymy średnią przeżywalność (procent pasażerów, którzy przeżyli podróż) w podziale na klasę:"
   ]
  },
  {
   "cell_type": "code",
   "execution_count": 25,
   "metadata": {},
   "outputs": [
    {
     "data": {
      "text/plain": [
       "class\n",
       "First     0.629630\n",
       "Second    0.472826\n",
       "Third     0.242363\n",
       "Name: survived, dtype: float64"
      ]
     },
     "execution_count": 25,
     "metadata": {},
     "output_type": "execute_result"
    }
   ],
   "source": [
    "titanic.groupby('class').survived.mean()"
   ]
  },
  {
   "cell_type": "markdown",
   "metadata": {},
   "source": [
    "Widzimy teraz wyraźnie, że największą szansę na przeżycie mieli pasażerowie pierwszej klasy, najniższą zaś - pasażerowie klasy trzeciej. Chcielibyśmy uchwycić teraz tę zależność w modelu statystycznym korzystając z regresji.  \n",
    "W pierwszej kolejności sprawdzimy zależność między zmienną `survived` a `pclass` tzn numeryczną reprezentacją klasy.\n",
    "Nasza hipoteza jest w związku z tym taka, że przeżywalność zależy liniowo od klasy - im niższa klasa, tym wyższa przeżywalność.  \n",
    "W pierwszej kolejności wyprodukujemy sobie wykres tej zależności korzystając z funkcji `sns.regplot` - funkcja ta pozwala na wyświetlanie zależności na podstawie modelu regresji. Uzupełnij kod poniżej wpisując poprawne nazwy kolumn zamiast tekstu `'nazwa kolumny dla ...'`. Pamiętaj że nazwy kolumn podajemy jako napisy (np. `'age'` dla kolumny określającej wiek)."
   ]
  },
  {
   "cell_type": "code",
   "execution_count": null,
   "metadata": {
    "collapsed": true
   },
   "outputs": [],
   "source": [
    "sns.regplot('nazwa kolumny dla osi x', 'nazwa kolumny dla osi y', data=titanic)"
   ]
  },
  {
   "cell_type": "markdown",
   "metadata": {},
   "source": [
    "Wykres powinien wyglądać tak:"
   ]
  },
  {
   "cell_type": "code",
   "execution_count": 30,
   "metadata": {},
   "outputs": [
    {
     "data": {
      "text/plain": [
       "<matplotlib.axes._subplots.AxesSubplot at 0x22be404ed30>"
      ]
     },
     "execution_count": 30,
     "metadata": {},
     "output_type": "execute_result"
    },
    {
     "data": {
      "image/png": "[encoded data removed]",
      "text/plain": [
       "<matplotlib.figure.Figure at 0x22be3ebe860>"
      ]
     },
     "metadata": {},
     "output_type": "display_data"
    }
   ],
   "source": []
  },
  {
   "cell_type": "markdown",
   "metadata": {},
   "source": [
    "Widzimy że linia regresji wskazuje na spadek przeżywalności dla rosnących klas. Jednak punkty prezentujące poszególnych pasażerów nakładają się na siebie. Rozproszymy je trochę w osi x oraz w osi y aby wykres był bardziej czytelny. Dodaj do argumentów funkcji `sns.regplot`: `x_jitter=0.2, y_jitter=0.15` aby otrzymać wykres jak poniżej:"
   ]
  },
  {
   "cell_type": "code",
   "execution_count": 36,
   "metadata": {},
   "outputs": [
    {
     "data": {
      "text/plain": [
       "<matplotlib.axes._subplots.AxesSubplot at 0x22be442f4a8>"
      ]
     },
     "execution_count": 36,
     "metadata": {},
     "output_type": "execute_result"
    },
    {
     "data": {
      "image/png": "[encoded data removed]",
      "text/plain": [
       "<matplotlib.figure.Figure at 0x22be41d8828>"
      ]
     },
     "metadata": {},
     "output_type": "display_data"
    }
   ],
   "source": [
    "sns.regplot(______, _______, data=_______, x_jitter=____, y_jitter=_____)"
   ]
  },
  {
   "cell_type": "markdown",
   "metadata": {},
   "source": [
    "Chcielibyśmy teraz nie tylko zwizualizować tę zależność, ale faktycznie dopasować model liniowy. Skorzystamy do tego z biblioteki `statsmodels`, której specjalność to właśnie modele statystyczne. Najpierw wczytamy bibliotekę (a konkretnie jej moduł pozwalający na wygodne dopasowywanie modeli z użyciem formuł tekstowych):"
   ]
  },
  {
   "cell_type": "code",
   "execution_count": 37,
   "metadata": {},
   "outputs": [],
   "source": [
    "import statsmodels.formula.api as smf"
   ]
  },
  {
   "cell_type": "markdown",
   "metadata": {},
   "source": [
    "Teraz możemy skorzystać z funkcji `ols` aby dopasować model liniowy (`ols` bierze się od *ordinary least squares* - z ostatnich zajęć powinniście pamiętać mniej więcej dlaczego *squares* i dlaczego *least*). Chcemy korzystając z tego modelu przewidywać przeżywalność (`survived`) za pomocą klasy (`pclass`). W R'rze oraz w pythonie opisujemy tego typu zależności za pomocą tzw. formuł, o ogólnym kształcie: `'przewidywana _zmienna ~ zmienna_przewidująca'`. W naszym wypadku napiszemy w związku z tym formułę jako `'survived ~ pclass'`."
   ]
  },
  {
   "cell_type": "code",
   "execution_count": 39,
   "metadata": {},
   "outputs": [],
   "source": [
    "model = smf.ols(formula='survived ~ pclass', data=titanic)"
   ]
  },
  {
   "cell_type": "markdown",
   "metadata": {},
   "source": [
    "Model musimy następnie dopasować do danych korzystając z metody `.fit()`:"
   ]
  },
  {
   "cell_type": "code",
   "execution_count": 40,
   "metadata": {
    "collapsed": true
   },
   "outputs": [],
   "source": [
    "results = model.fit()"
   ]
  },
  {
   "cell_type": "markdown",
   "metadata": {},
   "source": [
    "Wyniki modelu możemy wyświetlić z użyciem metody `.summary()`:"
   ]
  },
  {
   "cell_type": "code",
   "execution_count": 41,
   "metadata": {},
   "outputs": [
    {
     "data": {
      "text/html": [
       "<table class=\"simpletable\">\n",
       "<caption>OLS Regression Results</caption>\n",
       "<tr>\n",
       "  <th>Dep. Variable:</th>        <td>survived</td>     <th>  R-squared:         </th> <td>   0.115</td>\n",
       "</tr>\n",
       "<tr>\n",
       "  <th>Model:</th>                   <td>OLS</td>       <th>  Adj. R-squared:    </th> <td>   0.114</td>\n",
       "</tr>\n",
       "<tr>\n",
       "  <th>Method:</th>             <td>Least Squares</td>  <th>  F-statistic:       </th> <td>   115.0</td>\n",
       "</tr>\n",
       "<tr>\n",
       "  <th>Date:</th>             <td>Sun, 15 Apr 2018</td> <th>  Prob (F-statistic):</th> <td>2.54e-25</td>\n",
       "</tr>\n",
       "<tr>\n",
       "  <th>Time:</th>                 <td>19:07:52</td>     <th>  Log-Likelihood:    </th> <td> -567.75</td>\n",
       "</tr>\n",
       "<tr>\n",
       "  <th>No. Observations:</th>      <td>   891</td>      <th>  AIC:               </th> <td>   1140.</td>\n",
       "</tr>\n",
       "<tr>\n",
       "  <th>Df Residuals:</th>          <td>   889</td>      <th>  BIC:               </th> <td>   1149.</td>\n",
       "</tr>\n",
       "<tr>\n",
       "  <th>Df Model:</th>              <td>     1</td>      <th>                     </th>     <td> </td>   \n",
       "</tr>\n",
       "<tr>\n",
       "  <th>Covariance Type:</th>      <td>nonrobust</td>    <th>                     </th>     <td> </td>   \n",
       "</tr>\n",
       "</table>\n",
       "<table class=\"simpletable\">\n",
       "<tr>\n",
       "      <td></td>         <th>coef</th>     <th>std err</th>      <th>t</th>      <th>P>|t|</th>  <th>[0.025</th>    <th>0.975]</th>  \n",
       "</tr>\n",
       "<tr>\n",
       "  <th>Intercept</th> <td>    0.8386</td> <td>    0.045</td> <td>   18.597</td> <td> 0.000</td> <td>    0.750</td> <td>    0.927</td>\n",
       "</tr>\n",
       "<tr>\n",
       "  <th>pclass</th>    <td>   -0.1970</td> <td>    0.018</td> <td>  -10.725</td> <td> 0.000</td> <td>   -0.233</td> <td>   -0.161</td>\n",
       "</tr>\n",
       "</table>\n",
       "<table class=\"simpletable\">\n",
       "<tr>\n",
       "  <th>Omnibus:</th>       <td>1338.045</td> <th>  Durbin-Watson:     </th> <td>   1.962</td>\n",
       "</tr>\n",
       "<tr>\n",
       "  <th>Prob(Omnibus):</th>  <td> 0.000</td>  <th>  Jarque-Bera (JB):  </th> <td>  87.541</td>\n",
       "</tr>\n",
       "<tr>\n",
       "  <th>Skew:</th>           <td> 0.428</td>  <th>  Prob(JB):          </th> <td>9.79e-20</td>\n",
       "</tr>\n",
       "<tr>\n",
       "  <th>Kurtosis:</th>       <td> 1.725</td>  <th>  Cond. No.          </th> <td>    8.29</td>\n",
       "</tr>\n",
       "</table>"
      ],
      "text/plain": [
       "<class 'statsmodels.iolib.summary.Summary'>\n",
       "\"\"\"\n",
       "                            OLS Regression Results                            \n",
       "==============================================================================\n",
       "Dep. Variable:               survived   R-squared:                       0.115\n",
       "Model:                            OLS   Adj. R-squared:                  0.114\n",
       "Method:                 Least Squares   F-statistic:                     115.0\n",
       "Date:                Sun, 15 Apr 2018   Prob (F-statistic):           2.54e-25\n",
       "Time:                        19:07:52   Log-Likelihood:                -567.75\n",
       "No. Observations:                 891   AIC:                             1140.\n",
       "Df Residuals:                     889   BIC:                             1149.\n",
       "Df Model:                           1                                         \n",
       "Covariance Type:            nonrobust                                         \n",
       "==============================================================================\n",
       "                 coef    std err          t      P>|t|      [0.025      0.975]\n",
       "------------------------------------------------------------------------------\n",
       "Intercept      0.8386      0.045     18.597      0.000       0.750       0.927\n",
       "pclass        -0.1970      0.018    -10.725      0.000      -0.233      -0.161\n",
       "==============================================================================\n",
       "Omnibus:                     1338.045   Durbin-Watson:                   1.962\n",
       "Prob(Omnibus):                  0.000   Jarque-Bera (JB):               87.541\n",
       "Skew:                           0.428   Prob(JB):                     9.79e-20\n",
       "Kurtosis:                       1.725   Cond. No.                         8.29\n",
       "==============================================================================\n",
       "\n",
       "Warnings:\n",
       "[1] Standard Errors assume that the covariance matrix of the errors is correctly specified.\n",
       "\"\"\""
      ]
     },
     "execution_count": 41,
     "metadata": {},
     "output_type": "execute_result"
    }
   ],
   "source": [
    "results.summary()"
   ]
  },
  {
   "cell_type": "markdown",
   "metadata": {},
   "source": [
    "Pojawia się tutaj mnóstwo informacji, które nas nie będą interesować, także nie przejmujcie się tym natłokiem złożonej terminologii. Interesuje nas teraz tylko tabelka z kolumnami: *coef*, *std err*, *t* oraz *P>|t|*.\n",
    "W tej tabeli w wierszach zobaczymy: *Intercept* oraz *pclass*. To pierwsze to ogólna średnia dla wszystkich grup, natomiast drugie to stromość linii uwzględniającej wpływ klasy (`pclass`). Zauważcie że *coef* dla *pclass* wynosi `-0.197`, w zaokrągleniu `-0.2`, a więc z każdą kolejną klasą prawdopodobieństwo przeżycia spada o 20% (`-0.2`). Wartość w kolumnie t mówi o sile tego efektu (statystykę t możecie traktować jako stosunek sygnału czy efektu do szumu), a *P>|t|* o istotności. Efekty poniżej t -2 oraz powyżej t 2 są zwykle istotne. t poniżej -10 (jak w tym wypadku) to bardzo silny efekt, możecie zresztą zobaczyć, że p (istotność) jest bardzo niska. Efekt klasy jest bez wątpienia istotny pod kątem przeżywalności pasażerów statku Titanic."
   ]
  },
  {
   "cell_type": "markdown",
   "metadata": {},
   "source": [
    "Możemy sobie zadać pytanie czy dodatkowo płeć przewiduje przeżywalność, ale wiemy, że w pierwszej kolejności ratowane są zazwyczaj kobiety i dzieci, więc płeć będzie mieć znaczenie w zależności od wieku. Zamiast robić złożone analizy interakcji płci oraz wieku zrobimy coś znaczeni prostszego, skożystamy z kolumny `who`, która opisuje każdego pasażera jako mężczyznę, kobietę lubi dziecko. Poniżej wyświetlamy wszystkie unikatowe wartości kolumny `who`:"
   ]
  },
  {
   "cell_type": "code",
   "execution_count": 43,
   "metadata": {},
   "outputs": [
    {
     "data": {
      "text/plain": [
       "array(['man', 'woman', 'child'], dtype=object)"
      ]
     },
     "execution_count": 43,
     "metadata": {},
     "output_type": "execute_result"
    }
   ],
   "source": [
    "titanic.who.unique()"
   ]
  },
  {
   "cell_type": "markdown",
   "metadata": {},
   "source": [
    "Aby dodać tę zmienną do modelu dodajemy ją w formule z użyciem znaku `+` tzn.:\n",
    "`'survived ~ pclass + who'`.  \n",
    "Stwórz i dopasuje model z taką formułą podobnie jak robiliśmy to wyżej, a następnie wyświetl wyniki."
   ]
  },
  {
   "cell_type": "code",
   "execution_count": 46,
   "metadata": {},
   "outputs": [
    {
     "data": {
      "text/html": [
       "<table class=\"simpletable\">\n",
       "<caption>OLS Regression Results</caption>\n",
       "<tr>\n",
       "  <th>Dep. Variable:</th>        <td>survived</td>     <th>  R-squared:         </th> <td>   0.395</td>\n",
       "</tr>\n",
       "<tr>\n",
       "  <th>Model:</th>                   <td>OLS</td>       <th>  Adj. R-squared:    </th> <td>   0.393</td>\n",
       "</tr>\n",
       "<tr>\n",
       "  <th>Method:</th>             <td>Least Squares</td>  <th>  F-statistic:       </th> <td>   192.8</td>\n",
       "</tr>\n",
       "<tr>\n",
       "  <th>Date:</th>             <td>Sun, 15 Apr 2018</td> <th>  Prob (F-statistic):</th> <td>3.07e-96</td>\n",
       "</tr>\n",
       "<tr>\n",
       "  <th>Time:</th>                 <td>19:29:08</td>     <th>  Log-Likelihood:    </th> <td> -398.33</td>\n",
       "</tr>\n",
       "<tr>\n",
       "  <th>No. Observations:</th>      <td>   891</td>      <th>  AIC:               </th> <td>   804.7</td>\n",
       "</tr>\n",
       "<tr>\n",
       "  <th>Df Residuals:</th>          <td>   887</td>      <th>  BIC:               </th> <td>   823.8</td>\n",
       "</tr>\n",
       "<tr>\n",
       "  <th>Df Model:</th>              <td>     3</td>      <th>                     </th>     <td> </td>   \n",
       "</tr>\n",
       "<tr>\n",
       "  <th>Covariance Type:</th>      <td>nonrobust</td>    <th>                     </th>     <td> </td>   \n",
       "</tr>\n",
       "</table>\n",
       "<table class=\"simpletable\">\n",
       "<tr>\n",
       "        <td></td>          <th>coef</th>     <th>std err</th>      <th>t</th>      <th>P>|t|</th>  <th>[0.025</th>    <th>0.975]</th>  \n",
       "</tr>\n",
       "<tr>\n",
       "  <th>Intercept</th>    <td>    1.0202</td> <td>    0.058</td> <td>   17.518</td> <td> 0.000</td> <td>    0.906</td> <td>    1.135</td>\n",
       "</tr>\n",
       "<tr>\n",
       "  <th>who[T.man]</th>   <td>   -0.4681</td> <td>    0.045</td> <td>  -10.425</td> <td> 0.000</td> <td>   -0.556</td> <td>   -0.380</td>\n",
       "</tr>\n",
       "<tr>\n",
       "  <th>who[T.woman]</th> <td>    0.0774</td> <td>    0.048</td> <td>    1.603</td> <td> 0.109</td> <td>   -0.017</td> <td>    0.172</td>\n",
       "</tr>\n",
       "<tr>\n",
       "  <th>pclass</th>       <td>   -0.1637</td> <td>    0.016</td> <td>  -10.554</td> <td> 0.000</td> <td>   -0.194</td> <td>   -0.133</td>\n",
       "</tr>\n",
       "</table>\n",
       "<table class=\"simpletable\">\n",
       "<tr>\n",
       "  <th>Omnibus:</th>       <td>33.788</td> <th>  Durbin-Watson:     </th> <td>   1.950</td>\n",
       "</tr>\n",
       "<tr>\n",
       "  <th>Prob(Omnibus):</th> <td> 0.000</td> <th>  Jarque-Bera (JB):  </th> <td>  36.673</td>\n",
       "</tr>\n",
       "<tr>\n",
       "  <th>Skew:</th>          <td> 0.490</td> <th>  Prob(JB):          </th> <td>1.09e-08</td>\n",
       "</tr>\n",
       "<tr>\n",
       "  <th>Kurtosis:</th>      <td> 3.165</td> <th>  Cond. No.          </th> <td>    17.3</td>\n",
       "</tr>\n",
       "</table>"
      ],
      "text/plain": [
       "<class 'statsmodels.iolib.summary.Summary'>\n",
       "\"\"\"\n",
       "                            OLS Regression Results                            \n",
       "==============================================================================\n",
       "Dep. Variable:               survived   R-squared:                       0.395\n",
       "Model:                            OLS   Adj. R-squared:                  0.393\n",
       "Method:                 Least Squares   F-statistic:                     192.8\n",
       "Date:                Sun, 15 Apr 2018   Prob (F-statistic):           3.07e-96\n",
       "Time:                        19:29:08   Log-Likelihood:                -398.33\n",
       "No. Observations:                 891   AIC:                             804.7\n",
       "Df Residuals:                     887   BIC:                             823.8\n",
       "Df Model:                           3                                         \n",
       "Covariance Type:            nonrobust                                         \n",
       "================================================================================\n",
       "                   coef    std err          t      P>|t|      [0.025      0.975]\n",
       "--------------------------------------------------------------------------------\n",
       "Intercept        1.0202      0.058     17.518      0.000       0.906       1.135\n",
       "who[T.man]      -0.4681      0.045    -10.425      0.000      -0.556      -0.380\n",
       "who[T.woman]     0.0774      0.048      1.603      0.109      -0.017       0.172\n",
       "pclass          -0.1637      0.016    -10.554      0.000      -0.194      -0.133\n",
       "==============================================================================\n",
       "Omnibus:                       33.788   Durbin-Watson:                   1.950\n",
       "Prob(Omnibus):                  0.000   Jarque-Bera (JB):               36.673\n",
       "Skew:                           0.490   Prob(JB):                     1.09e-08\n",
       "Kurtosis:                       3.165   Cond. No.                         17.3\n",
       "==============================================================================\n",
       "\n",
       "Warnings:\n",
       "[1] Standard Errors assume that the covariance matrix of the errors is correctly specified.\n",
       "\"\"\""
      ]
     },
     "execution_count": 46,
     "metadata": {},
     "output_type": "execute_result"
    }
   ],
   "source": []
  },
  {
   "cell_type": "markdown",
   "metadata": {},
   "source": [
    "W wynikach zobaczysz dodatkowo wiersze dla `'who[T.man]'` oraz `'who[T.woman]'`. Zmienna `who` jest zmienną kategorialną a nie ilościową więc model został skonstruowany opisując efekt dwóch z trzech kategorii względem kategorii bazowej. Tzn. efekt `'who[T.man]` opisuje jak na przeżywalność wpływa bycie mężczyzną w porównaniu do bycia dzieckiem (kategoria bazowa). Wybór kategorii bazowej to nasza indywidualna decyzjna - wpływa na interpretację modelu.  \n",
    "Widzimy w każdym razie że mężczyzna ma średnio o 47% niższe szanse przeżycia w porównaniu do dziecka (*coef* dla `'who[T.man]'` to `-0.4681`, efekt ten jest bardzo silny: `t = -10.425` i istotny `p < 0.001`) natomiast szanse przeżycia kobiety są porównywalne."
   ]
  },
  {
   "cell_type": "markdown",
   "metadata": {},
   "source": [
    "Podsumujmy sobie zbadane zależności na jednym wykresie:  \n",
    "Skożystamy z funkcji `sns.factorplot` aby, tak jak wcześniej w wykresach dla regresji, na osi x prezentować klasę biletu, na osi y natomiast przeżycie. Kolorem (`hue=`) chcemy mieć oznaczone oddzielne linie dla roli pasażera (`who`), dane to oczywiście nasz dataframe `titanic`:"
   ]
  },
  {
   "cell_type": "code",
   "execution_count": null,
   "metadata": {
    "collapsed": true
   },
   "outputs": [],
   "source": [
    "sns.factorplot(_______, ________, hue=_____, data=titanic)"
   ]
  },
  {
   "cell_type": "markdown",
   "metadata": {},
   "source": [
    "### Ćwiczenie\n",
    "Spróbuj dodać do modelu jeszcze jedną, albo dwie zmienne, co do których wydaje Ci się, że miałyby sens."
   ]
  },
  {
   "cell_type": "code",
   "execution_count": null,
   "metadata": {
    "collapsed": true
   },
   "outputs": [],
   "source": [
    "# tutaj ćwiczenie"
   ]
  },
  {
   "cell_type": "markdown",
   "metadata": {},
   "source": [
    "<div class=\"alert alert-warning\">\n",
    "Uwaga! Bardziej poprawne w wypadku powyżej byłoby korzystanie z regresji logistycznej, nie liniowej,  \n",
    "ponieważ przeżycie pojedynczej osoby to `tak` albo `nie`.  \n",
    "Model liniowy zakłada natomiast, że zmienna zależna jest ilościowa, a nie dychotomiczna.  \n",
    "W przykładzie poniżej, gdy przejdziemy do uczenia maszynowego, skorzystamy już z regresji  \n",
    "logistycznej.  \n",
    "Jeżeli chcesz dopasować model logistyczny do danych z użyciem `statsmodels` skorzystaj z  \n",
    "`smf.Logit` - reszta jest taka sama jak dla regresji liniowej. W internecie jest wiele\n",
    "pomocnych  \n",
    "materiałów np.: [ten tutorial](http://blog.yhat.com/posts/logistic-regression-and-python.html)\n",
    "</div>"
   ]
  },
  {
   "cell_type": "markdown",
   "metadata": {},
   "source": [
    "## Uczenie maszynowe\n",
    "W uczeniu maszynowym interesuje nas bardziej przewidywanie niż zrozumienie zależności w danych.\n",
    "Wyobraźmy sobie że zastanawiamy się nad podróżą Tytanikiem II - zanim zdecydujemy się na podróż chcielibyśmy wiedzieć, czy mamy szanse ją przeżyć. Ważniejsze jest dla nas aby trafnie przewidzieć nasze szanse przeżycia, nawet kosztem zrozumienia dlaczego model, z którego korzystamy zwraca określone przewidywanie. Dlatego w uczeniu maszynowym często korzysta się z dużo bardziej złożonych modeli niż w klasycznej statystyce i nie opisuje efektów pod kątem istotności efektów, ale poprawności naszych predykcji.  \n",
    "Najczęściej w uczeniu maszynowym symulujemy predykcję poprzez podzielenie danych na dwa zbiory - treningowy oraz testowy.\n",
    "**Zbiór treningowy** to dane, z których korzystamy aby dopasować nasz model. **Ziór testowy** to dane, dla których sprawdzamy jak trafne są nasze predykcje.  \n",
    "Najpopularniejszym pakietem do uczenia maszynowego (z pominięciem złożonych sieci neuronowych) jest `scikit-learn`, w skrócie `sklearn`. Pakiet ten ma bardzo bogatą [dokumnetację](http://scikit-learn.org/stable/index.html).\n",
    "Najpierw wczytamy tylko funkcję do dzielenia danych na dane testowe i treningowe oraz model z którego będziemy korzystać - regresję logistyczną:"
   ]
  },
  {
   "cell_type": "code",
   "execution_count": 48,
   "metadata": {
    "collapsed": true
   },
   "outputs": [],
   "source": [
    "from sklearn.model_selection import train_test_split\n",
    "from sklearn.linear_model import LogisticRegression"
   ]
  },
  {
   "cell_type": "markdown",
   "metadata": {},
   "source": [
    "### Przekształcanie danych\n",
    "Podstawowa różnica między `statsmodels` a `sklearn` jest taka, że `sklearn` korzysta z macierzy, a nie dataframe'ów, dlatego w pierwszym kroku zamienimy nasz dataframe na macierz. Będziemy musieli w tym celu zamienić kolumny zawierające dane kategorialne (takie jak np. `who`) na zmienne dychotomiczne. Kolumna `who` ma np. trzy kategorie - zamienimy ją w związku z tym w dwie kolumny zero-jedynkowe (dychotomiczne) w naszej macierzy (nie potrzebujemy aż trzech kolumn w tym wypadku - trzecia niosła by redundantne informacje względem dwóch poprzednich). Do zamiany kolumn kategorialnych na dychotomiczne użyjemy funkcji `pd.get_dummies`.  \n",
    "<div class=\"alert alert-warning\">\n",
    "Nie musicie dokładnie rozumieć poszczególnych kroków przekształcania dataframe'u na macierz. Ważne tylko abyście przeczytali sekcję poniżej aby mieć ogólne zrozumienie jak tego rodzaju kroki są wykonywane.\n",
    "</div>\n",
    "  \n",
    "Przypomnijmy sobie najpierw jak wyglądają nasze dane:"
   ]
  },
  {
   "cell_type": "code",
   "execution_count": 50,
   "metadata": {},
   "outputs": [
    {
     "data": {
      "text/html": [
       "<div>\n",
       "<style scoped>\n",
       "    .dataframe tbody tr th:only-of-type {\n",
       "        vertical-align: middle;\n",
       "    }\n",
       "\n",
       "    .dataframe tbody tr th {\n",
       "        vertical-align: top;\n",
       "    }\n",
       "\n",
       "    .dataframe thead th {\n",
       "        text-align: right;\n",
       "    }\n",
       "</style>\n",
       "<table border=\"1\" class=\"dataframe\">\n",
       "  <thead>\n",
       "    <tr style=\"text-align: right;\">\n",
       "      <th></th>\n",
       "      <th>survived</th>\n",
       "      <th>pclass</th>\n",
       "      <th>sex</th>\n",
       "      <th>age</th>\n",
       "      <th>sibsp</th>\n",
       "      <th>parch</th>\n",
       "      <th>fare</th>\n",
       "      <th>embarked</th>\n",
       "      <th>class</th>\n",
       "      <th>who</th>\n",
       "      <th>adult_male</th>\n",
       "      <th>deck</th>\n",
       "      <th>embark_town</th>\n",
       "      <th>alive</th>\n",
       "      <th>alone</th>\n",
       "    </tr>\n",
       "  </thead>\n",
       "  <tbody>\n",
       "    <tr>\n",
       "      <th>0</th>\n",
       "      <td>0</td>\n",
       "      <td>3</td>\n",
       "      <td>male</td>\n",
       "      <td>22.0</td>\n",
       "      <td>1</td>\n",
       "      <td>0</td>\n",
       "      <td>7.2500</td>\n",
       "      <td>S</td>\n",
       "      <td>Third</td>\n",
       "      <td>man</td>\n",
       "      <td>True</td>\n",
       "      <td>NaN</td>\n",
       "      <td>Southampton</td>\n",
       "      <td>no</td>\n",
       "      <td>False</td>\n",
       "    </tr>\n",
       "    <tr>\n",
       "      <th>1</th>\n",
       "      <td>1</td>\n",
       "      <td>1</td>\n",
       "      <td>female</td>\n",
       "      <td>38.0</td>\n",
       "      <td>1</td>\n",
       "      <td>0</td>\n",
       "      <td>71.2833</td>\n",
       "      <td>C</td>\n",
       "      <td>First</td>\n",
       "      <td>woman</td>\n",
       "      <td>False</td>\n",
       "      <td>C</td>\n",
       "      <td>Cherbourg</td>\n",
       "      <td>yes</td>\n",
       "      <td>False</td>\n",
       "    </tr>\n",
       "    <tr>\n",
       "      <th>2</th>\n",
       "      <td>1</td>\n",
       "      <td>3</td>\n",
       "      <td>female</td>\n",
       "      <td>26.0</td>\n",
       "      <td>0</td>\n",
       "      <td>0</td>\n",
       "      <td>7.9250</td>\n",
       "      <td>S</td>\n",
       "      <td>Third</td>\n",
       "      <td>woman</td>\n",
       "      <td>False</td>\n",
       "      <td>NaN</td>\n",
       "      <td>Southampton</td>\n",
       "      <td>yes</td>\n",
       "      <td>True</td>\n",
       "    </tr>\n",
       "    <tr>\n",
       "      <th>3</th>\n",
       "      <td>1</td>\n",
       "      <td>1</td>\n",
       "      <td>female</td>\n",
       "      <td>35.0</td>\n",
       "      <td>1</td>\n",
       "      <td>0</td>\n",
       "      <td>53.1000</td>\n",
       "      <td>S</td>\n",
       "      <td>First</td>\n",
       "      <td>woman</td>\n",
       "      <td>False</td>\n",
       "      <td>C</td>\n",
       "      <td>Southampton</td>\n",
       "      <td>yes</td>\n",
       "      <td>False</td>\n",
       "    </tr>\n",
       "    <tr>\n",
       "      <th>4</th>\n",
       "      <td>0</td>\n",
       "      <td>3</td>\n",
       "      <td>male</td>\n",
       "      <td>35.0</td>\n",
       "      <td>0</td>\n",
       "      <td>0</td>\n",
       "      <td>8.0500</td>\n",
       "      <td>S</td>\n",
       "      <td>Third</td>\n",
       "      <td>man</td>\n",
       "      <td>True</td>\n",
       "      <td>NaN</td>\n",
       "      <td>Southampton</td>\n",
       "      <td>no</td>\n",
       "      <td>True</td>\n",
       "    </tr>\n",
       "  </tbody>\n",
       "</table>\n",
       "</div>"
      ],
      "text/plain": [
       "   survived  pclass     sex   age  sibsp  parch     fare embarked  class  \\\n",
       "0         0       3    male  22.0      1      0   7.2500        S  Third   \n",
       "1         1       1  female  38.0      1      0  71.2833        C  First   \n",
       "2         1       3  female  26.0      0      0   7.9250        S  Third   \n",
       "3         1       1  female  35.0      1      0  53.1000        S  First   \n",
       "4         0       3    male  35.0      0      0   8.0500        S  Third   \n",
       "\n",
       "     who  adult_male deck  embark_town alive  alone  \n",
       "0    man        True  NaN  Southampton    no  False  \n",
       "1  woman       False    C    Cherbourg   yes  False  \n",
       "2  woman       False  NaN  Southampton   yes   True  \n",
       "3  woman       False    C  Southampton   yes  False  \n",
       "4    man        True  NaN  Southampton    no   True  "
      ]
     },
     "execution_count": 50,
     "metadata": {},
     "output_type": "execute_result"
    }
   ],
   "source": [
    "titanic.head()"
   ]
  },
  {
   "cell_type": "markdown",
   "metadata": {},
   "source": [
    "Najpierw weźmy kolumny ilościowe: pclass (klasa biletu), age (wiek), sibsp (liczba rodzeństwa bądź małżonków na pokładzie) parch (liczba rodziców / dzieci na pokładzie), fare (opłata):"
   ]
  },
  {
   "cell_type": "code",
   "execution_count": 76,
   "metadata": {},
   "outputs": [
    {
     "name": "stdout",
     "output_type": "stream",
     "text": [
      "[[ 3.     22.      1.      0.      7.25  ]\n",
      " [ 1.     38.      1.      0.     71.2833]\n",
      " [ 3.     26.      0.      0.      7.925 ]\n",
      " [ 1.     35.      1.      0.     53.1   ]\n",
      " [ 3.     35.      0.      0.      8.05  ]\n",
      " [ 3.         nan  0.      0.      8.4583]]\n"
     ]
    }
   ],
   "source": [
    "columns = ['pclass', 'age', 'sibsp', 'parch', 'fare']\n",
    "titanic_selected = titanic.loc[:, columns]\n",
    "data_matrix = titanic_selected.values\n",
    "print(data_matrix[:6, :])"
   ]
  },
  {
   "cell_type": "markdown",
   "metadata": {},
   "source": [
    "możecie przy okazji zwrócić uwagę powyżej na wartość w drugiej kolumnie, ostatnim wierszu: `nan` - to brak danych. Z brakami poradzimy sobie później.  \n",
    "W następnej kolejności zajmijmy się płcią: kolumna `sex`. Korzystamy z `pd.get_dummies` podając kolumnę sex oraz używamy `drop_first=True` aby dostać o jedną kolumnę mniej niż liczba kategorii (aby uniknąć nadmiarowych informacjii):"
   ]
  },
  {
   "cell_type": "code",
   "execution_count": 77,
   "metadata": {},
   "outputs": [
    {
     "data": {
      "text/html": [
       "<div>\n",
       "<style scoped>\n",
       "    .dataframe tbody tr th:only-of-type {\n",
       "        vertical-align: middle;\n",
       "    }\n",
       "\n",
       "    .dataframe tbody tr th {\n",
       "        vertical-align: top;\n",
       "    }\n",
       "\n",
       "    .dataframe thead th {\n",
       "        text-align: right;\n",
       "    }\n",
       "</style>\n",
       "<table border=\"1\" class=\"dataframe\">\n",
       "  <thead>\n",
       "    <tr style=\"text-align: right;\">\n",
       "      <th></th>\n",
       "      <th>male</th>\n",
       "    </tr>\n",
       "  </thead>\n",
       "  <tbody>\n",
       "    <tr>\n",
       "      <th>0</th>\n",
       "      <td>1</td>\n",
       "    </tr>\n",
       "    <tr>\n",
       "      <th>1</th>\n",
       "      <td>0</td>\n",
       "    </tr>\n",
       "    <tr>\n",
       "      <th>2</th>\n",
       "      <td>0</td>\n",
       "    </tr>\n",
       "    <tr>\n",
       "      <th>3</th>\n",
       "      <td>0</td>\n",
       "    </tr>\n",
       "    <tr>\n",
       "      <th>4</th>\n",
       "      <td>1</td>\n",
       "    </tr>\n",
       "    <tr>\n",
       "      <th>5</th>\n",
       "      <td>1</td>\n",
       "    </tr>\n",
       "  </tbody>\n",
       "</table>\n",
       "</div>"
      ],
      "text/plain": [
       "   male\n",
       "0     1\n",
       "1     0\n",
       "2     0\n",
       "3     0\n",
       "4     1\n",
       "5     1"
      ]
     },
     "execution_count": 77,
     "metadata": {},
     "output_type": "execute_result"
    }
   ],
   "source": [
    "sx = pd.get_dummies(titanic.sex, drop_first=True)\n",
    "sx[:6]"
   ]
  },
  {
   "cell_type": "markdown",
   "metadata": {},
   "source": [
    "Możemy dokleić tę kolumnę do naszej macierzy `data_matrix` za pomocą `np.concatenate`, łącząc po drugim wymiarze (pierwszy - wiersze, drugi - kolumny):"
   ]
  },
  {
   "cell_type": "code",
   "execution_count": 78,
   "metadata": {},
   "outputs": [
    {
     "name": "stdout",
     "output_type": "stream",
     "text": [
      "[[ 3.     22.      1.      0.      7.25    1.    ]\n",
      " [ 1.     38.      1.      0.     71.2833  0.    ]\n",
      " [ 3.     26.      0.      0.      7.925   0.    ]\n",
      " [ 1.     35.      1.      0.     53.1     0.    ]\n",
      " [ 3.     35.      0.      0.      8.05    1.    ]\n",
      " [ 3.         nan  0.      0.      8.4583  1.    ]]\n"
     ]
    }
   ],
   "source": [
    "data_matrix = np.concatenate([data_matrix, sx.values], axis=1)\n",
    "columns.append('sex')\n",
    "print(data_matrix[:6])"
   ]
  },
  {
   "cell_type": "markdown",
   "metadata": {},
   "source": [
    "Tak samo postąpimy z kolumną `alone`:"
   ]
  },
  {
   "cell_type": "code",
   "execution_count": 79,
   "metadata": {},
   "outputs": [
    {
     "name": "stdout",
     "output_type": "stream",
     "text": [
      "[[ 3.     22.      1.      0.      7.25    1.      0.    ]\n",
      " [ 1.     38.      1.      0.     71.2833  0.      0.    ]\n",
      " [ 3.     26.      0.      0.      7.925   0.      1.    ]\n",
      " [ 1.     35.      1.      0.     53.1     0.      0.    ]\n",
      " [ 3.     35.      0.      0.      8.05    1.      1.    ]\n",
      " [ 3.         nan  0.      0.      8.4583  1.      1.    ]]\n"
     ]
    }
   ],
   "source": [
    "aln = pd.get_dummies(titanic.alone, drop_first=True)\n",
    "data_matrix = np.concatenate([data_matrix, aln.values], axis=1)\n",
    "columns.append('alone')\n",
    "\n",
    "print(data_matrix[:6])"
   ]
  },
  {
   "cell_type": "markdown",
   "metadata": {},
   "source": [
    "Zostaje nam już tylko `who`:"
   ]
  },
  {
   "cell_type": "code",
   "execution_count": 80,
   "metadata": {},
   "outputs": [
    {
     "data": {
      "text/html": [
       "<div>\n",
       "<style scoped>\n",
       "    .dataframe tbody tr th:only-of-type {\n",
       "        vertical-align: middle;\n",
       "    }\n",
       "\n",
       "    .dataframe tbody tr th {\n",
       "        vertical-align: top;\n",
       "    }\n",
       "\n",
       "    .dataframe thead th {\n",
       "        text-align: right;\n",
       "    }\n",
       "</style>\n",
       "<table border=\"1\" class=\"dataframe\">\n",
       "  <thead>\n",
       "    <tr style=\"text-align: right;\">\n",
       "      <th></th>\n",
       "      <th>man</th>\n",
       "      <th>woman</th>\n",
       "    </tr>\n",
       "  </thead>\n",
       "  <tbody>\n",
       "    <tr>\n",
       "      <th>0</th>\n",
       "      <td>1</td>\n",
       "      <td>0</td>\n",
       "    </tr>\n",
       "    <tr>\n",
       "      <th>1</th>\n",
       "      <td>0</td>\n",
       "      <td>1</td>\n",
       "    </tr>\n",
       "    <tr>\n",
       "      <th>2</th>\n",
       "      <td>0</td>\n",
       "      <td>1</td>\n",
       "    </tr>\n",
       "  </tbody>\n",
       "</table>\n",
       "</div>"
      ],
      "text/plain": [
       "   man  woman\n",
       "0    1      0\n",
       "1    0      1\n",
       "2    0      1"
      ]
     },
     "execution_count": 80,
     "metadata": {},
     "output_type": "execute_result"
    }
   ],
   "source": [
    "who = pd.get_dummies(titanic.who, drop_first=True)\n",
    "who[:3]"
   ]
  },
  {
   "cell_type": "code",
   "execution_count": 81,
   "metadata": {},
   "outputs": [
    {
     "name": "stdout",
     "output_type": "stream",
     "text": [
      "[[ 3.     22.      1.      0.      7.25    1.      0.      1.      0.    ]\n",
      " [ 1.     38.      1.      0.     71.2833  0.      0.      0.      1.    ]\n",
      " [ 3.     26.      0.      0.      7.925   0.      1.      0.      1.    ]\n",
      " [ 1.     35.      1.      0.     53.1     0.      0.      0.      1.    ]\n",
      " [ 3.     35.      0.      0.      8.05    1.      1.      1.      0.    ]\n",
      " [ 3.         nan  0.      0.      8.4583  1.      1.      1.      0.    ]]\n"
     ]
    }
   ],
   "source": [
    "data_matrix = np.concatenate([data_matrix, who.values], axis=1)\n",
    "columns.extend(['who_man', 'who_woman'])\n",
    "\n",
    "print(data_matrix[:6])"
   ]
  },
  {
   "cell_type": "markdown",
   "metadata": {},
   "source": [
    "Reszta kolumn nie będzie nas interesować. To już koniec przekształceń!  \n",
    "Nagródźmy się kolorową reprezentacją części naszych danych:"
   ]
  },
  {
   "cell_type": "code",
   "execution_count": 82,
   "metadata": {},
   "outputs": [
    {
     "data": {
      "text/plain": [
       "(-0.5, 5.5, 9.5, -0.5)"
      ]
     },
     "execution_count": 82,
     "metadata": {},
     "output_type": "execute_result"
    },
    {
     "data": {
      "image/png": "[encoded data removed]",
      "text/plain": [
       "<matplotlib.figure.Figure at 0x22be5bbd400>"
      ]
     },
     "metadata": {},
     "output_type": "display_data"
    }
   ],
   "source": [
    "plt.imshow(data_matrix[25:35, [0, 2, 3, 5, 6, 7]], cmap='viridis')\n",
    "plt.axis('off')"
   ]
  },
  {
   "cell_type": "markdown",
   "metadata": {},
   "source": [
    "### Dzielenie na dane treningowe i testowe"
   ]
  },
  {
   "cell_type": "markdown",
   "metadata": {},
   "source": [
    "Interesuje nas przewidywanie przeżycia tzn. kolumny `survived`, zapiszemy ją sobie w formacie numpy w zmiennej `y`:"
   ]
  },
  {
   "cell_type": "code",
   "execution_count": 74,
   "metadata": {
    "collapsed": true
   },
   "outputs": [],
   "source": [
    "y = titanic.survived.values"
   ]
  },
  {
   "cell_type": "markdown",
   "metadata": {},
   "source": [
    "Dzielimy nasze dane (`data_matrix`) i zmienną zależną (`y`) na zbiór testowy i treningowy. Chcemy aby zbiór testowy wynosił 30% treningowego, dodatkowo podajemy `random_state` aby losowanie było takie same nawet jak uruchomimy ten notebook ponownie (a także między różnymi komputerami)."
   ]
  },
  {
   "cell_type": "code",
   "execution_count": 83,
   "metadata": {
    "collapsed": true
   },
   "outputs": [],
   "source": [
    "X_train, X_test, y_train, y_test = train_test_split(data_matrix, y, test_size=0.3, random_state=42)"
   ]
  },
  {
   "cell_type": "markdown",
   "metadata": {},
   "source": [
    "Najpierw zobaczmy jak nam idzie przewidywanie dla dwóch zmiennych, z których korzystaliśmy wcześniej budując model statystyczny: `pclass` oraz `who_man`. Przypomnijmy sobie, które są to kolumny w naszej macierzy (wiemy o tym ponieważ tworzyliśmy na bieżąco listę nazw kolumn `columns`):"
   ]
  },
  {
   "cell_type": "code",
   "execution_count": 85,
   "metadata": {},
   "outputs": [
    {
     "name": "stdout",
     "output_type": "stream",
     "text": [
      "['pclass', 'age', 'sibsp', 'parch', 'fare', 'sex', 'alone', 'who_man', 'who_woman']\n"
     ]
    }
   ],
   "source": [
    "print(columns)"
   ]
  },
  {
   "cell_type": "markdown",
   "metadata": {},
   "source": [
    "Pierwsza oraz przedostatnia kolumna - wybierzemy je teraz zarówno dla danych treningowych jak i testowych:"
   ]
  },
  {
   "cell_type": "code",
   "execution_count": 86,
   "metadata": {
    "collapsed": true
   },
   "outputs": [],
   "source": [
    "xtr = X_train[:, [0, -2]]\n",
    "xts = X_test[:, [0, -2]]"
   ]
  },
  {
   "cell_type": "markdown",
   "metadata": {},
   "source": [
    "### Przewidujemy (na razie z użyciem dwóch zmiennych)"
   ]
  },
  {
   "cell_type": "markdown",
   "metadata": {},
   "source": [
    "Korztystamy z regresji logistycznej (wcześniej wczytanej funkcji `LogisticRegression`) - najpierw tworzymy klasyfikator (regresję logistyczną):"
   ]
  },
  {
   "cell_type": "code",
   "execution_count": 125,
   "metadata": {
    "collapsed": true
   },
   "outputs": [],
   "source": [
    "logistic_model = LogisticRegression()"
   ]
  },
  {
   "cell_type": "markdown",
   "metadata": {},
   "source": [
    "Teraz korzystamy z metody `.fit()` klasyfikatora aby dopasować go do danych treningowych:\n",
    "* `xtr`, macierzy zawierającej dwie kolumny z `data_matrix`\n",
    "* `y_train` informacji o przeżyciu pasażera (odpowiadających kolejnym wierszom z `data_matrix`)"
   ]
  },
  {
   "cell_type": "code",
   "execution_count": 126,
   "metadata": {},
   "outputs": [
    {
     "data": {
      "text/plain": [
       "LogisticRegression(C=1.0, class_weight=None, dual=False, fit_intercept=True,\n",
       "          intercept_scaling=1, max_iter=100, multi_class='ovr', n_jobs=1,\n",
       "          penalty='l2', random_state=None, solver='liblinear', tol=0.0001,\n",
       "          verbose=0, warm_start=False)"
      ]
     },
     "execution_count": 126,
     "metadata": {},
     "output_type": "execute_result"
    }
   ],
   "source": [
    "logistic_model.fit(xtr, y_train)"
   ]
  },
  {
   "cell_type": "markdown",
   "metadata": {},
   "source": [
    "Możemy następnie wygenerować przewidywania dla danych testowych (`xts`):"
   ]
  },
  {
   "cell_type": "code",
   "execution_count": 127,
   "metadata": {
    "collapsed": true
   },
   "outputs": [],
   "source": [
    "predictions = logistic_model.predict(xts)"
   ]
  },
  {
   "cell_type": "code",
   "execution_count": 128,
   "metadata": {},
   "outputs": [
    {
     "data": {
      "text/plain": [
       "array([0, 0, 0, 1, 1, 1, 1, 0], dtype=int64)"
      ]
     },
     "execution_count": 128,
     "metadata": {},
     "output_type": "execute_result"
    }
   ],
   "source": [
    "predictions[:8]"
   ]
  },
  {
   "cell_type": "markdown",
   "metadata": {},
   "source": [
    "Przewidywania to po prostu zera i jedynki odpowiadające ocenie nie przeżyje (0) oraz przeżyje (1). Możemy je teraz porównać z faktycznym losem pasażerów znajdujących się w zbiorze testowym (`y_test`). Porównujemy `predictions` z `y_test` z użyciem identyczności (`==`), co daje nam listę (a konkretnie wektor) zer i jedynek - zera gdzie predykcja nie zgadza się z faktycznym losem, jeden gdzie predykcja jest trafna. Uśrednienie tej listy daje nam średnią poprawność predykcji naszego modelu:"
   ]
  },
  {
   "cell_type": "code",
   "execution_count": 90,
   "metadata": {},
   "outputs": [
    {
     "name": "stdout",
     "output_type": "stream",
     "text": [
      "Poprawność przewidywania naszego modelu to: 0.7947761194029851\n"
     ]
    }
   ],
   "source": [
    "poprawność = (predictions == y_test).mean()\n",
    "print('Poprawność przewidywania naszego modelu to:', poprawność)"
   ]
  },
  {
   "cell_type": "markdown",
   "metadata": {},
   "source": [
    "79% to całkiem nieźle, to prawie 80% poprawności przewidywań w oparciu tylko o dwie zmienne. Zanim przejdziemy dalej, spróbujemy zrozumieć lepiej co robi regresja logistyczne w oparciu o te dwie zmienne. W tym celu narysujemy sobie na jednym wykresie punkty odpowiadające pasażerom (kolorami oznaczając czy przeżyli). Oś x tego wykresu to będzie klasa biletu, natomiast oś y reprezentować będzie czy pasażer jest mężczyzną (nie-dzieckiem, przy czym nie mówimy tu o stanie umysłu):\n",
    "<div class=\"alert alert-danger\">\n",
    "Uwaga!  \n",
    "Kod przygotowujący wykresy może być dla Was czarną magią, nie musicie go zupełnie rozumieć. Ważne jest tylko zrozumienie _wykresu_.\n",
    "</div>"
   ]
  },
  {
   "cell_type": "code",
   "execution_count": 98,
   "metadata": {},
   "outputs": [
    {
     "data": {
      "image/png": "[encoded data removed]",
      "text/plain": [
       "<matplotlib.figure.Figure at 0x22be5e17f28>"
      ]
     },
     "metadata": {},
     "output_type": "display_data"
    }
   ],
   "source": [
    "alive = y_train == 1\n",
    "x = xtr + np.random.rand(*xtr.shape) * 0.5 - 0.25\n",
    "\n",
    "plt.scatter(x[~alive, 0], x[~alive, 1], alpha=0.5, label='zmarł')\n",
    "plt.scatter(x[alive, 0], x[alive, 1], alpha=0.5, label='przeżył')\n",
    "\n",
    "plt.xticks([1, 2, 3])\n",
    "plt.yticks([0, 1], ['nie-mężczyzna', 'mężczyzna'])\n",
    "plt.legend(loc='best')"
   ]
  },
  {
   "cell_type": "markdown",
   "metadata": {},
   "source": [
    "Zwróćcie uwagę, że punkty są rozproszone dla czytelności, faktycznie każdy punkt zajmuje tylko jedną z sześciu pozycji (3 na osi x * 2 na osi y).  \n",
    "Regresja logistyczna dzieli nam tę dwu-wymiarową przestrzeń prostą linią tak aby jak najlepiej rozseparować żywych od matrwych."
   ]
  },
  {
   "cell_type": "code",
   "execution_count": 107,
   "metadata": {},
   "outputs": [],
   "source": [
    "xx = np.linspace(0.5, 3.5, 100)\n",
    "yy = np.linspace(-0.5, 1.5, 100).T\n",
    "xx, yy = np.meshgrid(xx, yy)\n",
    "full_grid = np.c_[xx.ravel(), yy.ravel()]\n",
    "\n",
    "prob = logistic_model.predict_proba(full_grid)[:, 1].reshape((100, 100))"
   ]
  },
  {
   "cell_type": "code",
   "execution_count": 118,
   "metadata": {},
   "outputs": [
    {
     "data": {
      "image/png": "[encoded data removed]",
      "text/plain": [
       "<matplotlib.figure.Figure at 0x22be6f39898>"
      ]
     },
     "metadata": {},
     "output_type": "display_data"
    }
   ],
   "source": [
    "img = plt.imshow(prob, extent=[0.5, 3.5, -0.5, 1.5], origin='lower', cmap='viridis')\n",
    "\n",
    "plt.scatter(x[~alive, 0], x[~alive, 1], alpha=0.5, label='zmarł')\n",
    "plt.scatter(x[alive, 0], x[alive, 1], alpha=0.5, label='przeżył')\n",
    "\n",
    "plt.contour(xx, yy, prob, levels=[0.5])\n",
    "\n",
    "plt.xticks([1, 2, 3])\n",
    "plt.yticks([0, 1], ['nie-mężczyzna', 'mężczyzna'])\n",
    "plt.legend(loc='best', frameon=True, fancybox=True)\n",
    "plt.grid('off')\n",
    "cbar = plt.colorbar(img)\n",
    "cbar.ax.set_ylabel('Prawdopodobieństwo przeżycia', fontsize=12)"
   ]
  },
  {
   "cell_type": "markdown",
   "metadata": {},
   "source": [
    "Widzimy, że regresja logistyczna przyporządkowuje punktom w powyższej, dwuwymiarowej przestrzeni, prawdopodobieństwo należenia do klasy \"przeżył\" - zaznaczone kolorem. Czarna linia to linia decyzyjna regresji logistycznej - powyżej tej linii prawdopodobieństwo przeżycia wynosi mniej niż 50%, poniżej - więcej niż 50%. Linia ta układa się w taki sposób, że sugeruje, że nasz sukces w przewidywaniu (poprawność 79%) wynika tylko z wykorzystania zmiennej `who_man`. Możesz to sprawdzić dopasowując model korzystający tylko z jednej zmiennej:"
   ]
  },
  {
   "cell_type": "code",
   "execution_count": 129,
   "metadata": {},
   "outputs": [
    {
     "name": "stdout",
     "output_type": "stream",
     "text": [
      "Poprawność przewidywania naszego modelu to: 0.7947761194029851\n"
     ]
    }
   ],
   "source": [
    "xtrain = X_train[:, [-2]]\n",
    "xtest = X_test[:, [-2]]\n",
    "\n",
    "logistic_model.___(xtrain, y_train)\n",
    "predictions = logistic_model.______(xtest)\n",
    "\n",
    "poprawność = (__________ == y_test).____()\n",
    "print('Poprawność przewidywania naszego modelu to:', _________)"
   ]
  },
  {
   "cell_type": "markdown",
   "metadata": {},
   "source": [
    "### Korzystamy ze wszystkich zmiennych:"
   ]
  },
  {
   "cell_type": "markdown",
   "metadata": {},
   "source": [
    "Gdy chcemy skorzystać ze wszystkich zmiennych dobrze jest:\n",
    "* poradzić sobie z brakami danych\n",
    "* wystandaryzować zmienne\n",
    "\n",
    "#### Braki danych\n",
    "Funkcja `np.isnan` pozwala nam sprawdzić które obserwacje dla których zmiennych mają braki danych. Chcemy jednak usunąć wiersze (obserwacje) dla których pojawia się chociaż jeden brak. W związku z tym wykorzystujemy `any(axis=1)` - dla każdego wiersza dostajemy wtedy prawdę gdy w chociaż jednej jego kolumnie (`axis=1`) pojawia się prawda (a prawda w `np.isnan` to obecność braku danych). W ten sposób mamy `missing_train` mówiący nam o obserwacjach mających braki danych dla danych treningowych (i odpowiednio `missing_test` dla danych testowych). Możemy skorzystać z tego wektora aby wybrać tylko obserwacje, które nie mają braków danych np.: `X_train[~missing_train, :]` (wiersze które nie mają braków, wszystkie kolumny)\n",
    "\n",
    "#### Standaryzacja\n",
    "Korzystamy ze `StandardScaler` i jego metody `.fit_transform()` za pomocą której szybko dokonujemy standaryzacji każdej zmiennej (kolumny) w macierzy treningowej i testowej."
   ]
  },
  {
   "cell_type": "code",
   "execution_count": 122,
   "metadata": {},
   "outputs": [
    {
     "data": {
      "text/plain": [
       "LogisticRegression(C=1.0, class_weight=None, dual=False, fit_intercept=True,\n",
       "          intercept_scaling=1, max_iter=100, multi_class='ovr', n_jobs=1,\n",
       "          penalty='l2', random_state=None, solver='liblinear', tol=0.0001,\n",
       "          verbose=0, warm_start=False)"
      ]
     },
     "execution_count": 122,
     "metadata": {},
     "output_type": "execute_result"
    }
   ],
   "source": [
    "from sklearn.preprocessing import StandardScaler\n",
    "\n",
    "# usuwamy wiersze z brakami danych\n",
    "missing_train = np.isnan(X_train).any(axis=1)\n",
    "missing_test = np.isnan(X_test).any(axis=1)\n",
    "\n",
    "std = StandardScaler()\n",
    "X_train_std = std.fit_transform(X_train[~missing_train, :])\n",
    "X_test_std = std.fit_transform(X_test[~missing_test, :])\n",
    "\n",
    "logistic_model.fit(X_train_std, y_train[~missing_train])"
   ]
  },
  {
   "cell_type": "code",
   "execution_count": 123,
   "metadata": {},
   "outputs": [
    {
     "name": "stdout",
     "output_type": "stream",
     "text": [
      "Poprawność przewidywania naszego modelu to: 0.8186046511627907\n"
     ]
    }
   ],
   "source": [
    "predictions = logistic_model.predict(X_test_std)\n",
    "poprawność = (predictions == y_test[~missing_test]).mean()\n",
    "print('Poprawność przewidywania naszego modelu to:', poprawność)"
   ]
  },
  {
   "cell_type": "markdown",
   "metadata": {},
   "source": [
    "Tylko nieco lepiej niż w sytuacji naszej jednej zmiennej - 82%.\n",
    "Poprawić ten wynik moglibyśmy:\n",
    "* dostosowując hiperparametry naszego klasyfikatora (regresji logistycznej)\n",
    "* tworząc nowe zmienne (predyktory) np. obrazujące interakcję między niektórymi zmiennymi\n",
    "* albo używając innego klasyfikatora (np. sieci neuronowej, która potrafi sama utworzyć sobie nowe predyktory np. interakcje z danych)  \n",
    "\n",
    "Ale, zważywszy na to, że pewnie niewiele osób dojdzie do tego miejsca - o tym będziemy się uczyć następnym razem!"
   ]
  },
  {
   "cell_type": "code",
   "execution_count": null,
   "metadata": {
    "collapsed": true
   },
   "outputs": [],
   "source": []
  }
 ],
 "metadata": {
  "kernelspec": {
   "display_name": "Python [Root]",
   "language": "python",
   "name": "Python [Root]"
  },
  "language_info": {
   "codemirror_mode": {
    "name": "ipython",
    "version": 3
   },
   "file_extension": ".py",
   "mimetype": "text/x-python",
   "name": "python",
   "nbconvert_exporter": "python",
   "pygments_lexer": "ipython3",
   "version": "3.5.1"
  }
 },
 "nbformat": 4,
 "nbformat_minor": 2
}
